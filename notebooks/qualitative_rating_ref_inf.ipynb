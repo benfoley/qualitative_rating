{
  "nbformat": 4,
  "nbformat_minor": 0,
  "metadata": {
    "colab": {
      "provenance": [],
      "collapsed_sections": [
        "WDkkvv-jtnZM",
        "V0Y6qp0o7qSM",
        "XXRSQUiIs3lk",
        "myXvhQba5QWz"
      ]
    },
    "kernelspec": {
      "name": "python3",
      "display_name": "Python 3"
    },
    "language_info": {
      "name": "python"
    },
    "widgets": {
      "application/vnd.jupyter.widget-state+json": {
        "c9517be09c3043cdb8aef0da73808478": {
          "model_module": "@jupyter-widgets/controls",
          "model_name": "AccordionModel",
          "model_module_version": "1.5.0",
          "state": {
            "_dom_classes": [],
            "_model_module": "@jupyter-widgets/controls",
            "_model_module_version": "1.5.0",
            "_model_name": "AccordionModel",
            "_titles": {
              "0": "ZMS_EIP_010_Pronoun_cv_all"
            },
            "_view_count": null,
            "_view_module": "@jupyter-widgets/controls",
            "_view_module_version": "1.5.0",
            "_view_name": "AccordionView",
            "box_style": "",
            "children": [
              "IPY_MODEL_7a7961cd34254ffeb60c4107adf692b7"
            ],
            "layout": "IPY_MODEL_602a1ae962f84c3c866935e3b98ef21f",
            "selected_index": 0
          }
        },
        "7a7961cd34254ffeb60c4107adf692b7": {
          "model_module": "@jupyter-widgets/controls",
          "model_name": "VBoxModel",
          "model_module_version": "1.5.0",
          "state": {
            "_dom_classes": [],
            "_model_module": "@jupyter-widgets/controls",
            "_model_module_version": "1.5.0",
            "_model_name": "VBoxModel",
            "_view_count": null,
            "_view_module": "@jupyter-widgets/controls",
            "_view_module_version": "1.5.0",
            "_view_name": "VBoxView",
            "box_style": "",
            "children": [
              "IPY_MODEL_2beb761bbfcd4929806e25aa099ff9e4",
              "IPY_MODEL_ce756bd2b90a40489dfb053ff10981e8"
            ],
            "layout": "IPY_MODEL_ad807f9854864ef58f9c1c18e946c1ff"
          }
        },
        "602a1ae962f84c3c866935e3b98ef21f": {
          "model_module": "@jupyter-widgets/base",
          "model_name": "LayoutModel",
          "model_module_version": "1.2.0",
          "state": {
            "_model_module": "@jupyter-widgets/base",
            "_model_module_version": "1.2.0",
            "_model_name": "LayoutModel",
            "_view_count": null,
            "_view_module": "@jupyter-widgets/base",
            "_view_module_version": "1.2.0",
            "_view_name": "LayoutView",
            "align_content": null,
            "align_items": null,
            "align_self": null,
            "border": null,
            "bottom": null,
            "display": null,
            "flex": null,
            "flex_flow": null,
            "grid_area": null,
            "grid_auto_columns": null,
            "grid_auto_flow": null,
            "grid_auto_rows": null,
            "grid_column": null,
            "grid_gap": null,
            "grid_row": null,
            "grid_template_areas": null,
            "grid_template_columns": null,
            "grid_template_rows": null,
            "height": null,
            "justify_content": null,
            "justify_items": null,
            "left": null,
            "margin": null,
            "max_height": null,
            "max_width": null,
            "min_height": null,
            "min_width": null,
            "object_fit": null,
            "object_position": null,
            "order": null,
            "overflow": null,
            "overflow_x": null,
            "overflow_y": null,
            "padding": null,
            "right": null,
            "top": null,
            "visibility": null,
            "width": null
          }
        },
        "2beb761bbfcd4929806e25aa099ff9e4": {
          "model_module": "@jupyter-widgets/controls",
          "model_name": "ToggleButtonsModel",
          "model_module_version": "1.5.0",
          "state": {
            "_dom_classes": [],
            "_model_module": "@jupyter-widgets/controls",
            "_model_module_version": "1.5.0",
            "_model_name": "ToggleButtonsModel",
            "_options_labels": [
              "Useless",
              "Glance",
              "Refer",
              "Edit",
              "Wow"
            ],
            "_view_count": null,
            "_view_module": "@jupyter-widgets/controls",
            "_view_module_version": "1.5.0",
            "_view_name": "ToggleButtonsView",
            "button_style": "",
            "description": "ZMS_EIP_010_Pronoun_cv_all",
            "description_tooltip": null,
            "disabled": false,
            "icons": [],
            "index": null,
            "layout": "IPY_MODEL_846d9ef90fb946bea8ff8de04d7a77c7",
            "style": "IPY_MODEL_b58a28b4b4d2473c88a1dc8b8753cbf6",
            "tooltips": []
          }
        },
        "ce756bd2b90a40489dfb053ff10981e8": {
          "model_module": "@jupyter-widgets/controls",
          "model_name": "AccordionModel",
          "model_module_version": "1.5.0",
          "state": {
            "_dom_classes": [],
            "_model_module": "@jupyter-widgets/controls",
            "_model_module_version": "1.5.0",
            "_model_name": "AccordionModel",
            "_titles": {
              "0": "Ref/inf text",
              "1": "Sequences longer than 4 words",
              "2": "Aligned lines"
            },
            "_view_count": null,
            "_view_module": "@jupyter-widgets/controls",
            "_view_module_version": "1.5.0",
            "_view_name": "AccordionView",
            "box_style": "",
            "children": [
              "IPY_MODEL_8b76dcab222e429d8c5b8d6365ce4b27",
              "IPY_MODEL_54d784b2d747482cbabdd0f8c4b2797d",
              "IPY_MODEL_140ae94a85b346c8bd194eacb81c623e"
            ],
            "layout": "IPY_MODEL_6c592fd8ef634dbebb9834b5409f4d4f",
            "selected_index": null
          }
        },
        "ad807f9854864ef58f9c1c18e946c1ff": {
          "model_module": "@jupyter-widgets/base",
          "model_name": "LayoutModel",
          "model_module_version": "1.2.0",
          "state": {
            "_model_module": "@jupyter-widgets/base",
            "_model_module_version": "1.2.0",
            "_model_name": "LayoutModel",
            "_view_count": null,
            "_view_module": "@jupyter-widgets/base",
            "_view_module_version": "1.2.0",
            "_view_name": "LayoutView",
            "align_content": null,
            "align_items": null,
            "align_self": null,
            "border": null,
            "bottom": null,
            "display": null,
            "flex": null,
            "flex_flow": null,
            "grid_area": null,
            "grid_auto_columns": null,
            "grid_auto_flow": null,
            "grid_auto_rows": null,
            "grid_column": null,
            "grid_gap": null,
            "grid_row": null,
            "grid_template_areas": null,
            "grid_template_columns": null,
            "grid_template_rows": null,
            "height": null,
            "justify_content": null,
            "justify_items": null,
            "left": null,
            "margin": null,
            "max_height": null,
            "max_width": null,
            "min_height": null,
            "min_width": null,
            "object_fit": null,
            "object_position": null,
            "order": null,
            "overflow": null,
            "overflow_x": null,
            "overflow_y": null,
            "padding": null,
            "right": null,
            "top": null,
            "visibility": null,
            "width": null
          }
        },
        "846d9ef90fb946bea8ff8de04d7a77c7": {
          "model_module": "@jupyter-widgets/base",
          "model_name": "LayoutModel",
          "model_module_version": "1.2.0",
          "state": {
            "_model_module": "@jupyter-widgets/base",
            "_model_module_version": "1.2.0",
            "_model_name": "LayoutModel",
            "_view_count": null,
            "_view_module": "@jupyter-widgets/base",
            "_view_module_version": "1.2.0",
            "_view_name": "LayoutView",
            "align_content": null,
            "align_items": null,
            "align_self": null,
            "border": null,
            "bottom": null,
            "display": null,
            "flex": null,
            "flex_flow": null,
            "grid_area": null,
            "grid_auto_columns": null,
            "grid_auto_flow": null,
            "grid_auto_rows": null,
            "grid_column": null,
            "grid_gap": null,
            "grid_row": null,
            "grid_template_areas": null,
            "grid_template_columns": null,
            "grid_template_rows": null,
            "height": null,
            "justify_content": null,
            "justify_items": null,
            "left": null,
            "margin": null,
            "max_height": null,
            "max_width": null,
            "min_height": null,
            "min_width": null,
            "object_fit": null,
            "object_position": null,
            "order": null,
            "overflow": null,
            "overflow_x": null,
            "overflow_y": null,
            "padding": null,
            "right": null,
            "top": null,
            "visibility": null,
            "width": null
          }
        },
        "b58a28b4b4d2473c88a1dc8b8753cbf6": {
          "model_module": "@jupyter-widgets/controls",
          "model_name": "ToggleButtonsStyleModel",
          "model_module_version": "1.5.0",
          "state": {
            "_model_module": "@jupyter-widgets/controls",
            "_model_module_version": "1.5.0",
            "_model_name": "ToggleButtonsStyleModel",
            "_view_count": null,
            "_view_module": "@jupyter-widgets/base",
            "_view_module_version": "1.2.0",
            "_view_name": "StyleView",
            "button_width": "60px",
            "description_width": "",
            "font_weight": ""
          }
        },
        "8b76dcab222e429d8c5b8d6365ce4b27": {
          "model_module": "@jupyter-widgets/controls",
          "model_name": "HBoxModel",
          "model_module_version": "1.5.0",
          "state": {
            "_dom_classes": [],
            "_model_module": "@jupyter-widgets/controls",
            "_model_module_version": "1.5.0",
            "_model_name": "HBoxModel",
            "_view_count": null,
            "_view_module": "@jupyter-widgets/controls",
            "_view_module_version": "1.5.0",
            "_view_name": "HBoxView",
            "box_style": "",
            "children": [
              "IPY_MODEL_bfd448fae30b452db9471d886fb37759",
              "IPY_MODEL_7d4d62fe191a4770b6d2434cae31e6c8"
            ],
            "layout": "IPY_MODEL_7c962f210703454ab80f6a06a0814010"
          }
        },
        "54d784b2d747482cbabdd0f8c4b2797d": {
          "model_module": "@jupyter-widgets/controls",
          "model_name": "HTMLModel",
          "model_module_version": "1.5.0",
          "state": {
            "_dom_classes": [],
            "_model_module": "@jupyter-widgets/controls",
            "_model_module_version": "1.5.0",
            "_model_name": "HTMLModel",
            "_view_count": null,
            "_view_module": "@jupyter-widgets/controls",
            "_view_module_version": "1.5.0",
            "_view_name": "HTMLView",
            "description": "",
            "description_tooltip": null,
            "layout": "IPY_MODEL_933d80bbaa3c4c32bd6fb38870555c31",
            "placeholder": "​",
            "style": "IPY_MODEL_cf6042ce172649a4ae05135d60372457",
            "value": "<div class='matched_lines'>welcome to five minutes indonesian shorter<hr>video we are going to learn about<hr>aku saya kamu anda dia beliau make</div>"
          }
        },
        "140ae94a85b346c8bd194eacb81c623e": {
          "model_module": "@jupyter-widgets/controls",
          "model_name": "HTMLModel",
          "model_module_version": "1.5.0",
          "state": {
            "_dom_classes": [],
            "_model_module": "@jupyter-widgets/controls",
            "_model_module_version": "1.5.0",
            "_model_name": "HTMLModel",
            "_view_count": null,
            "_view_module": "@jupyter-widgets/controls",
            "_view_module_version": "1.5.0",
            "_view_name": "HTMLView",
            "description": "",
            "description_tooltip": null,
            "layout": "IPY_MODEL_431fdcb2993d4660a518639987926f72",
            "placeholder": "​",
            "style": "IPY_MODEL_1dfafbd1c48640b2a108ea6010fb3e26",
            "value": "<div class='aligned_lines'><!DOCTYPE HTML PUBLIC \"-//W3C//DTD HTML 4.01 Transitional//EN\" \"http://www.w3.org/TR/html4/loose.dtd\">\n<html>\n<head>\n<meta http-equiv=\"Content-Type\" content=\"text/html; charset=utf-8\">\n<title></title>\n<style type=\"text/css\">\n.ansi2html-content { display: inline; white-space: pre-wrap; word-wrap: break-word; }\n.body_foreground { color: #AAAAAA; }\n.body_background { background-color: #000000; }\n.inv_foreground { color: #000000; }\n.inv_background { background-color: #AAAAAA; }\n.ansi31 { color: #aa0000; }\n.ansi32 { color: #00aa00; }\n</style>\n</head>\n<body class=\"body_foreground body_background\" style=\"font-size: normal;\" >\n<pre class=\"ansi2html-content\">\nwelcome to five minutes indonesian shorter <span class=\"ansi32\">today</span>  <span class=\"ansi32\">as</span> video we are going to learn about <span class=\"ansi32\">pronounse</span> aku saya kamu anda dia\n                                           <span class=\"ansi31\">todays</span>                                      <span class=\"ansi31\">pronouns</span>                        \n\nbeliau make <span class=\"ansi32\">our</span>  to <span class=\"ansi32\">ceck</span>  the <span class=\"ansi32\">compleate</span> video see <span class=\"ansi32\">ou</span>  in the next <span class=\"ansi32\">yourd</span>  bye\n            <span class=\"ansi31\">sure</span>    <span class=\"ansi31\">check</span>     <span class=\"ansi31\">complete</span>            <span class=\"ansi31\">you</span>             <span class=\"ansi31\">shorts</span>    \n</pre>\n</body>\n\n</html>\n</div>"
          }
        },
        "6c592fd8ef634dbebb9834b5409f4d4f": {
          "model_module": "@jupyter-widgets/base",
          "model_name": "LayoutModel",
          "model_module_version": "1.2.0",
          "state": {
            "_model_module": "@jupyter-widgets/base",
            "_model_module_version": "1.2.0",
            "_model_name": "LayoutModel",
            "_view_count": null,
            "_view_module": "@jupyter-widgets/base",
            "_view_module_version": "1.2.0",
            "_view_name": "LayoutView",
            "align_content": null,
            "align_items": null,
            "align_self": null,
            "border": null,
            "bottom": null,
            "display": null,
            "flex": null,
            "flex_flow": null,
            "grid_area": null,
            "grid_auto_columns": null,
            "grid_auto_flow": null,
            "grid_auto_rows": null,
            "grid_column": null,
            "grid_gap": null,
            "grid_row": null,
            "grid_template_areas": null,
            "grid_template_columns": null,
            "grid_template_rows": null,
            "height": null,
            "justify_content": null,
            "justify_items": null,
            "left": null,
            "margin": null,
            "max_height": null,
            "max_width": null,
            "min_height": null,
            "min_width": null,
            "object_fit": null,
            "object_position": null,
            "order": null,
            "overflow": null,
            "overflow_x": null,
            "overflow_y": null,
            "padding": null,
            "right": null,
            "top": null,
            "visibility": null,
            "width": null
          }
        },
        "bfd448fae30b452db9471d886fb37759": {
          "model_module": "@jupyter-widgets/controls",
          "model_name": "HTMLModel",
          "model_module_version": "1.5.0",
          "state": {
            "_dom_classes": [],
            "_model_module": "@jupyter-widgets/controls",
            "_model_module_version": "1.5.0",
            "_model_name": "HTMLModel",
            "_view_count": null,
            "_view_module": "@jupyter-widgets/controls",
            "_view_module_version": "1.5.0",
            "_view_name": "HTMLView",
            "description": "",
            "description_tooltip": null,
            "layout": "IPY_MODEL_abc57a883ce948a192733543a599e6f7",
            "placeholder": "​",
            "style": "IPY_MODEL_281505e9cee7438bb6358cebf8221e4d",
            "value": "<div class='ref_text'>welcome to five minutes indonesian shorter today as video we are going to learn about pronounse aku saya kamu anda dia beliau make our to ceck the compleate video see ou in the next yourd bye</div>"
          }
        },
        "7d4d62fe191a4770b6d2434cae31e6c8": {
          "model_module": "@jupyter-widgets/controls",
          "model_name": "HTMLModel",
          "model_module_version": "1.5.0",
          "state": {
            "_dom_classes": [],
            "_model_module": "@jupyter-widgets/controls",
            "_model_module_version": "1.5.0",
            "_model_name": "HTMLModel",
            "_view_count": null,
            "_view_module": "@jupyter-widgets/controls",
            "_view_module_version": "1.5.0",
            "_view_name": "HTMLView",
            "description": "",
            "description_tooltip": null,
            "layout": "IPY_MODEL_760e1f117e2241ff8c3c61b6dfe7fac2",
            "placeholder": "​",
            "style": "IPY_MODEL_2920f93a86a44a22a59db09e978e5436",
            "value": "<div class='inf_text'>welcome to five minutes indonesian shorter todays video we are going to learn about pronouns aku saya kamu anda dia beliau make sure to check the complete video see you in the next shorts bye\n</div>"
          }
        },
        "7c962f210703454ab80f6a06a0814010": {
          "model_module": "@jupyter-widgets/base",
          "model_name": "LayoutModel",
          "model_module_version": "1.2.0",
          "state": {
            "_model_module": "@jupyter-widgets/base",
            "_model_module_version": "1.2.0",
            "_model_name": "LayoutModel",
            "_view_count": null,
            "_view_module": "@jupyter-widgets/base",
            "_view_module_version": "1.2.0",
            "_view_name": "LayoutView",
            "align_content": null,
            "align_items": null,
            "align_self": null,
            "border": null,
            "bottom": null,
            "display": null,
            "flex": null,
            "flex_flow": null,
            "grid_area": null,
            "grid_auto_columns": null,
            "grid_auto_flow": null,
            "grid_auto_rows": null,
            "grid_column": null,
            "grid_gap": null,
            "grid_row": null,
            "grid_template_areas": null,
            "grid_template_columns": null,
            "grid_template_rows": null,
            "height": null,
            "justify_content": null,
            "justify_items": null,
            "left": null,
            "margin": null,
            "max_height": null,
            "max_width": null,
            "min_height": null,
            "min_width": null,
            "object_fit": null,
            "object_position": null,
            "order": null,
            "overflow": null,
            "overflow_x": null,
            "overflow_y": null,
            "padding": null,
            "right": null,
            "top": null,
            "visibility": null,
            "width": null
          }
        },
        "933d80bbaa3c4c32bd6fb38870555c31": {
          "model_module": "@jupyter-widgets/base",
          "model_name": "LayoutModel",
          "model_module_version": "1.2.0",
          "state": {
            "_model_module": "@jupyter-widgets/base",
            "_model_module_version": "1.2.0",
            "_model_name": "LayoutModel",
            "_view_count": null,
            "_view_module": "@jupyter-widgets/base",
            "_view_module_version": "1.2.0",
            "_view_name": "LayoutView",
            "align_content": null,
            "align_items": null,
            "align_self": null,
            "border": null,
            "bottom": null,
            "display": null,
            "flex": null,
            "flex_flow": null,
            "grid_area": null,
            "grid_auto_columns": null,
            "grid_auto_flow": null,
            "grid_auto_rows": null,
            "grid_column": null,
            "grid_gap": null,
            "grid_row": null,
            "grid_template_areas": null,
            "grid_template_columns": null,
            "grid_template_rows": null,
            "height": null,
            "justify_content": null,
            "justify_items": null,
            "left": null,
            "margin": null,
            "max_height": null,
            "max_width": null,
            "min_height": null,
            "min_width": null,
            "object_fit": null,
            "object_position": null,
            "order": null,
            "overflow": null,
            "overflow_x": null,
            "overflow_y": null,
            "padding": null,
            "right": null,
            "top": null,
            "visibility": null,
            "width": null
          }
        },
        "cf6042ce172649a4ae05135d60372457": {
          "model_module": "@jupyter-widgets/controls",
          "model_name": "DescriptionStyleModel",
          "model_module_version": "1.5.0",
          "state": {
            "_model_module": "@jupyter-widgets/controls",
            "_model_module_version": "1.5.0",
            "_model_name": "DescriptionStyleModel",
            "_view_count": null,
            "_view_module": "@jupyter-widgets/base",
            "_view_module_version": "1.2.0",
            "_view_name": "StyleView",
            "description_width": ""
          }
        },
        "431fdcb2993d4660a518639987926f72": {
          "model_module": "@jupyter-widgets/base",
          "model_name": "LayoutModel",
          "model_module_version": "1.2.0",
          "state": {
            "_model_module": "@jupyter-widgets/base",
            "_model_module_version": "1.2.0",
            "_model_name": "LayoutModel",
            "_view_count": null,
            "_view_module": "@jupyter-widgets/base",
            "_view_module_version": "1.2.0",
            "_view_name": "LayoutView",
            "align_content": null,
            "align_items": null,
            "align_self": null,
            "border": null,
            "bottom": null,
            "display": null,
            "flex": null,
            "flex_flow": null,
            "grid_area": null,
            "grid_auto_columns": null,
            "grid_auto_flow": null,
            "grid_auto_rows": null,
            "grid_column": null,
            "grid_gap": null,
            "grid_row": null,
            "grid_template_areas": null,
            "grid_template_columns": null,
            "grid_template_rows": null,
            "height": null,
            "justify_content": null,
            "justify_items": null,
            "left": null,
            "margin": null,
            "max_height": null,
            "max_width": null,
            "min_height": null,
            "min_width": null,
            "object_fit": null,
            "object_position": null,
            "order": null,
            "overflow": null,
            "overflow_x": null,
            "overflow_y": null,
            "padding": null,
            "right": null,
            "top": null,
            "visibility": null,
            "width": null
          }
        },
        "1dfafbd1c48640b2a108ea6010fb3e26": {
          "model_module": "@jupyter-widgets/controls",
          "model_name": "DescriptionStyleModel",
          "model_module_version": "1.5.0",
          "state": {
            "_model_module": "@jupyter-widgets/controls",
            "_model_module_version": "1.5.0",
            "_model_name": "DescriptionStyleModel",
            "_view_count": null,
            "_view_module": "@jupyter-widgets/base",
            "_view_module_version": "1.2.0",
            "_view_name": "StyleView",
            "description_width": ""
          }
        },
        "abc57a883ce948a192733543a599e6f7": {
          "model_module": "@jupyter-widgets/base",
          "model_name": "LayoutModel",
          "model_module_version": "1.2.0",
          "state": {
            "_model_module": "@jupyter-widgets/base",
            "_model_module_version": "1.2.0",
            "_model_name": "LayoutModel",
            "_view_count": null,
            "_view_module": "@jupyter-widgets/base",
            "_view_module_version": "1.2.0",
            "_view_name": "LayoutView",
            "align_content": null,
            "align_items": null,
            "align_self": null,
            "border": null,
            "bottom": null,
            "display": null,
            "flex": null,
            "flex_flow": null,
            "grid_area": null,
            "grid_auto_columns": null,
            "grid_auto_flow": null,
            "grid_auto_rows": null,
            "grid_column": null,
            "grid_gap": null,
            "grid_row": null,
            "grid_template_areas": null,
            "grid_template_columns": null,
            "grid_template_rows": null,
            "height": null,
            "justify_content": null,
            "justify_items": null,
            "left": null,
            "margin": null,
            "max_height": null,
            "max_width": null,
            "min_height": null,
            "min_width": null,
            "object_fit": null,
            "object_position": null,
            "order": null,
            "overflow": null,
            "overflow_x": null,
            "overflow_y": null,
            "padding": null,
            "right": null,
            "top": null,
            "visibility": null,
            "width": null
          }
        },
        "281505e9cee7438bb6358cebf8221e4d": {
          "model_module": "@jupyter-widgets/controls",
          "model_name": "DescriptionStyleModel",
          "model_module_version": "1.5.0",
          "state": {
            "_model_module": "@jupyter-widgets/controls",
            "_model_module_version": "1.5.0",
            "_model_name": "DescriptionStyleModel",
            "_view_count": null,
            "_view_module": "@jupyter-widgets/base",
            "_view_module_version": "1.2.0",
            "_view_name": "StyleView",
            "description_width": ""
          }
        },
        "760e1f117e2241ff8c3c61b6dfe7fac2": {
          "model_module": "@jupyter-widgets/base",
          "model_name": "LayoutModel",
          "model_module_version": "1.2.0",
          "state": {
            "_model_module": "@jupyter-widgets/base",
            "_model_module_version": "1.2.0",
            "_model_name": "LayoutModel",
            "_view_count": null,
            "_view_module": "@jupyter-widgets/base",
            "_view_module_version": "1.2.0",
            "_view_name": "LayoutView",
            "align_content": null,
            "align_items": null,
            "align_self": null,
            "border": null,
            "bottom": null,
            "display": null,
            "flex": null,
            "flex_flow": null,
            "grid_area": null,
            "grid_auto_columns": null,
            "grid_auto_flow": null,
            "grid_auto_rows": null,
            "grid_column": null,
            "grid_gap": null,
            "grid_row": null,
            "grid_template_areas": null,
            "grid_template_columns": null,
            "grid_template_rows": null,
            "height": null,
            "justify_content": null,
            "justify_items": null,
            "left": null,
            "margin": null,
            "max_height": null,
            "max_width": null,
            "min_height": null,
            "min_width": null,
            "object_fit": null,
            "object_position": null,
            "order": null,
            "overflow": null,
            "overflow_x": null,
            "overflow_y": null,
            "padding": null,
            "right": null,
            "top": null,
            "visibility": null,
            "width": null
          }
        },
        "2920f93a86a44a22a59db09e978e5436": {
          "model_module": "@jupyter-widgets/controls",
          "model_name": "DescriptionStyleModel",
          "model_module_version": "1.5.0",
          "state": {
            "_model_module": "@jupyter-widgets/controls",
            "_model_module_version": "1.5.0",
            "_model_name": "DescriptionStyleModel",
            "_view_count": null,
            "_view_module": "@jupyter-widgets/base",
            "_view_module_version": "1.2.0",
            "_view_name": "StyleView",
            "description_width": ""
          }
        },
        "7c42f813cd504fe789039484a2c89c8c": {
          "model_module": "@jupyter-widgets/controls",
          "model_name": "AccordionModel",
          "model_module_version": "1.5.0",
          "state": {
            "_dom_classes": [],
            "_model_module": "@jupyter-widgets/controls",
            "_model_module_version": "1.5.0",
            "_model_name": "AccordionModel",
            "_titles": {
              "0": "ZMS_EIP_013_Transaction_cv_all"
            },
            "_view_count": null,
            "_view_module": "@jupyter-widgets/controls",
            "_view_module_version": "1.5.0",
            "_view_name": "AccordionView",
            "box_style": "",
            "children": [
              "IPY_MODEL_acecd3a3a3064ba4882d4bdce0de09fd"
            ],
            "layout": "IPY_MODEL_b703ff2528e647ffac394c24bfd21844",
            "selected_index": 0
          }
        },
        "acecd3a3a3064ba4882d4bdce0de09fd": {
          "model_module": "@jupyter-widgets/controls",
          "model_name": "VBoxModel",
          "model_module_version": "1.5.0",
          "state": {
            "_dom_classes": [],
            "_model_module": "@jupyter-widgets/controls",
            "_model_module_version": "1.5.0",
            "_model_name": "VBoxModel",
            "_view_count": null,
            "_view_module": "@jupyter-widgets/controls",
            "_view_module_version": "1.5.0",
            "_view_name": "VBoxView",
            "box_style": "",
            "children": [
              "IPY_MODEL_33ecf4d66a9e4f6cab3f24f21fd6533a",
              "IPY_MODEL_18bde2f7f2244288a739768c2942e124"
            ],
            "layout": "IPY_MODEL_f3fd4bae272a42e2bfeab690499cd2fa"
          }
        },
        "b703ff2528e647ffac394c24bfd21844": {
          "model_module": "@jupyter-widgets/base",
          "model_name": "LayoutModel",
          "model_module_version": "1.2.0",
          "state": {
            "_model_module": "@jupyter-widgets/base",
            "_model_module_version": "1.2.0",
            "_model_name": "LayoutModel",
            "_view_count": null,
            "_view_module": "@jupyter-widgets/base",
            "_view_module_version": "1.2.0",
            "_view_name": "LayoutView",
            "align_content": null,
            "align_items": null,
            "align_self": null,
            "border": null,
            "bottom": null,
            "display": null,
            "flex": null,
            "flex_flow": null,
            "grid_area": null,
            "grid_auto_columns": null,
            "grid_auto_flow": null,
            "grid_auto_rows": null,
            "grid_column": null,
            "grid_gap": null,
            "grid_row": null,
            "grid_template_areas": null,
            "grid_template_columns": null,
            "grid_template_rows": null,
            "height": null,
            "justify_content": null,
            "justify_items": null,
            "left": null,
            "margin": null,
            "max_height": null,
            "max_width": null,
            "min_height": null,
            "min_width": null,
            "object_fit": null,
            "object_position": null,
            "order": null,
            "overflow": null,
            "overflow_x": null,
            "overflow_y": null,
            "padding": null,
            "right": null,
            "top": null,
            "visibility": null,
            "width": null
          }
        },
        "33ecf4d66a9e4f6cab3f24f21fd6533a": {
          "model_module": "@jupyter-widgets/controls",
          "model_name": "ToggleButtonsModel",
          "model_module_version": "1.5.0",
          "state": {
            "_dom_classes": [],
            "_model_module": "@jupyter-widgets/controls",
            "_model_module_version": "1.5.0",
            "_model_name": "ToggleButtonsModel",
            "_options_labels": [
              "Useless",
              "Glance",
              "Refer",
              "Edit",
              "Wow"
            ],
            "_view_count": null,
            "_view_module": "@jupyter-widgets/controls",
            "_view_module_version": "1.5.0",
            "_view_name": "ToggleButtonsView",
            "button_style": "",
            "description": "ZMS_EIP_013_Transaction_cv_all",
            "description_tooltip": null,
            "disabled": false,
            "icons": [],
            "index": null,
            "layout": "IPY_MODEL_8ed7373e639a413ca0c14ea296ca071c",
            "style": "IPY_MODEL_e8bf4663956040ff970c1805bf06b23c",
            "tooltips": []
          }
        },
        "18bde2f7f2244288a739768c2942e124": {
          "model_module": "@jupyter-widgets/controls",
          "model_name": "AccordionModel",
          "model_module_version": "1.5.0",
          "state": {
            "_dom_classes": [],
            "_model_module": "@jupyter-widgets/controls",
            "_model_module_version": "1.5.0",
            "_model_name": "AccordionModel",
            "_titles": {
              "0": "Ref/inf text",
              "1": "Sequences longer than 4 words",
              "2": "Aligned lines"
            },
            "_view_count": null,
            "_view_module": "@jupyter-widgets/controls",
            "_view_module_version": "1.5.0",
            "_view_name": "AccordionView",
            "box_style": "",
            "children": [
              "IPY_MODEL_d5d7fa89fae442709a91d3f02d151272",
              "IPY_MODEL_5ba2c320cc2c4fa788987d75dfa27425",
              "IPY_MODEL_8bf1b6ff05464e288eaf6903a2765e70"
            ],
            "layout": "IPY_MODEL_ba1b0d992bdd4afdb125300609df9884",
            "selected_index": null
          }
        },
        "f3fd4bae272a42e2bfeab690499cd2fa": {
          "model_module": "@jupyter-widgets/base",
          "model_name": "LayoutModel",
          "model_module_version": "1.2.0",
          "state": {
            "_model_module": "@jupyter-widgets/base",
            "_model_module_version": "1.2.0",
            "_model_name": "LayoutModel",
            "_view_count": null,
            "_view_module": "@jupyter-widgets/base",
            "_view_module_version": "1.2.0",
            "_view_name": "LayoutView",
            "align_content": null,
            "align_items": null,
            "align_self": null,
            "border": null,
            "bottom": null,
            "display": null,
            "flex": null,
            "flex_flow": null,
            "grid_area": null,
            "grid_auto_columns": null,
            "grid_auto_flow": null,
            "grid_auto_rows": null,
            "grid_column": null,
            "grid_gap": null,
            "grid_row": null,
            "grid_template_areas": null,
            "grid_template_columns": null,
            "grid_template_rows": null,
            "height": null,
            "justify_content": null,
            "justify_items": null,
            "left": null,
            "margin": null,
            "max_height": null,
            "max_width": null,
            "min_height": null,
            "min_width": null,
            "object_fit": null,
            "object_position": null,
            "order": null,
            "overflow": null,
            "overflow_x": null,
            "overflow_y": null,
            "padding": null,
            "right": null,
            "top": null,
            "visibility": null,
            "width": null
          }
        },
        "8ed7373e639a413ca0c14ea296ca071c": {
          "model_module": "@jupyter-widgets/base",
          "model_name": "LayoutModel",
          "model_module_version": "1.2.0",
          "state": {
            "_model_module": "@jupyter-widgets/base",
            "_model_module_version": "1.2.0",
            "_model_name": "LayoutModel",
            "_view_count": null,
            "_view_module": "@jupyter-widgets/base",
            "_view_module_version": "1.2.0",
            "_view_name": "LayoutView",
            "align_content": null,
            "align_items": null,
            "align_self": null,
            "border": null,
            "bottom": null,
            "display": null,
            "flex": null,
            "flex_flow": null,
            "grid_area": null,
            "grid_auto_columns": null,
            "grid_auto_flow": null,
            "grid_auto_rows": null,
            "grid_column": null,
            "grid_gap": null,
            "grid_row": null,
            "grid_template_areas": null,
            "grid_template_columns": null,
            "grid_template_rows": null,
            "height": null,
            "justify_content": null,
            "justify_items": null,
            "left": null,
            "margin": null,
            "max_height": null,
            "max_width": null,
            "min_height": null,
            "min_width": null,
            "object_fit": null,
            "object_position": null,
            "order": null,
            "overflow": null,
            "overflow_x": null,
            "overflow_y": null,
            "padding": null,
            "right": null,
            "top": null,
            "visibility": null,
            "width": null
          }
        },
        "e8bf4663956040ff970c1805bf06b23c": {
          "model_module": "@jupyter-widgets/controls",
          "model_name": "ToggleButtonsStyleModel",
          "model_module_version": "1.5.0",
          "state": {
            "_model_module": "@jupyter-widgets/controls",
            "_model_module_version": "1.5.0",
            "_model_name": "ToggleButtonsStyleModel",
            "_view_count": null,
            "_view_module": "@jupyter-widgets/base",
            "_view_module_version": "1.2.0",
            "_view_name": "StyleView",
            "button_width": "60px",
            "description_width": "",
            "font_weight": ""
          }
        },
        "d5d7fa89fae442709a91d3f02d151272": {
          "model_module": "@jupyter-widgets/controls",
          "model_name": "HBoxModel",
          "model_module_version": "1.5.0",
          "state": {
            "_dom_classes": [],
            "_model_module": "@jupyter-widgets/controls",
            "_model_module_version": "1.5.0",
            "_model_name": "HBoxModel",
            "_view_count": null,
            "_view_module": "@jupyter-widgets/controls",
            "_view_module_version": "1.5.0",
            "_view_name": "HBoxView",
            "box_style": "",
            "children": [
              "IPY_MODEL_2e51d955d950475cbc066853650b12c0",
              "IPY_MODEL_f4f58ad5c2b24f1c889d8237b2a36414"
            ],
            "layout": "IPY_MODEL_13eff7a00de946d6a3318956c43b0780"
          }
        },
        "5ba2c320cc2c4fa788987d75dfa27425": {
          "model_module": "@jupyter-widgets/controls",
          "model_name": "HTMLModel",
          "model_module_version": "1.5.0",
          "state": {
            "_dom_classes": [],
            "_model_module": "@jupyter-widgets/controls",
            "_model_module_version": "1.5.0",
            "_model_name": "HTMLModel",
            "_view_count": null,
            "_view_module": "@jupyter-widgets/controls",
            "_view_module_version": "1.5.0",
            "_view_name": "HTMLView",
            "description": "",
            "description_tooltip": null,
            "layout": "IPY_MODEL_3be3d59d035942f3914cb29642799838",
            "placeholder": "​",
            "style": "IPY_MODEL_1a1b53ee530f4f3d9d343e8c6f739393",
            "value": "<div class='matched_lines'>welcome to five minute indonesian my name is eiphel in the<hr>this video i will teach you<hr>dan harganya lima belas<hr>sama sama lets look at the conversation a<hr>means older brother or older<hr>use it here as a<hr>of calling someone that you dont know if its the same<hr>or someone thats older or younger we prefer<hr>as an older sister or mas as an older<hr>your indonesia you also<hr>is the same as older sister or<hr>which means older brother this is the<hr>or or for someone thats<hr>all have different way of<hr>indonesian language for older brother or older sister i dont have to<hr>my calling in every area and its<hr>so wherever you go using<hr>it means do you<hr>a pen this is how<hr>if you are looking for<hr>and informal so you can not use this if its a formal location or a<hr>if you are in a formal location<hr>you have to say it apakah<hr>pen but if you say this<hr>means price berapa means how much or how many we use berapa for asking every<hr>for asking the time we actually use<hr>berapa what time is it mau berapa saya<hr>means do you got<hr>english its have iphone or<hr>okay let me think about it first thank you<hr>hope you find this<hr>helpful and let me know if i should continue making this<hr>can use all the sentence that i use thats how<hr>the next video i will<hr>you how to tell</div>"
          }
        },
        "8bf1b6ff05464e288eaf6903a2765e70": {
          "model_module": "@jupyter-widgets/controls",
          "model_name": "HTMLModel",
          "model_module_version": "1.5.0",
          "state": {
            "_dom_classes": [],
            "_model_module": "@jupyter-widgets/controls",
            "_model_module_version": "1.5.0",
            "_model_name": "HTMLModel",
            "_view_count": null,
            "_view_module": "@jupyter-widgets/controls",
            "_view_module_version": "1.5.0",
            "_view_name": "HTMLView",
            "description": "",
            "description_tooltip": null,
            "layout": "IPY_MODEL_d8005cd6e3e74132b729c17feb21a54c",
            "placeholder": "​",
            "style": "IPY_MODEL_85dad9b4281e4234addf1c3417c4691d",
            "value": "<div class='aligned_lines'><!DOCTYPE HTML PUBLIC \"-//W3C//DTD HTML 4.01 Transitional//EN\" \"http://www.w3.org/TR/html4/loose.dtd\">\n<html>\n<head>\n<meta http-equiv=\"Content-Type\" content=\"text/html; charset=utf-8\">\n<title></title>\n<style type=\"text/css\">\n.ansi2html-content { display: inline; white-space: pre-wrap; word-wrap: break-word; }\n.body_foreground { color: #AAAAAA; }\n.body_background { background-color: #000000; }\n.inv_foreground { color: #000000; }\n.inv_background { background-color: #AAAAAA; }\n.ansi31 { color: #aa0000; }\n.ansi32 { color: #00aa00; }\n</style>\n</head>\n<body class=\"body_foreground body_background\" style=\"font-size: normal;\" >\n<pre class=\"ansi2html-content\">\n<span class=\"ansi32\">hine</span> welcome to five minute indonesian my name is eiphel in the <span class=\"ansi32\">previace</span> video <span class=\"ansi32\">wev</span>   <span class=\"ansi32\">learn</span>  about <span class=\"ansi32\">milions</span>  and <span class=\"ansi32\">billion</span> \n <span class=\"ansi31\">hi</span>                                                             <span class=\"ansi31\">previous</span>       <span class=\"ansi31\">weve</span> <span class=\"ansi31\">learned</span>       <span class=\"ansi31\">millions</span>     <span class=\"ansi31\">billions</span>\n\n<span class=\"ansi32\">speasicly</span> <span class=\"ansi32\">abut</span>  <span class=\"ansi32\">nombers</span> so lets <span class=\"ansi32\">bee</span>  <span class=\"ansi32\">onemean</span>    this video i will teach you <span class=\"ansi32\">howe</span> to make a <span class=\"ansi32\">transection</span> in indonesian\n<span class=\"ansi31\">basically</span> <span class=\"ansi31\">about</span> <span class=\"ansi31\">numbers</span>         <span class=\"ansi31\">move</span>   <span class=\"ansi31\">on</span>    <span class=\"ansi31\">in</span>                             <span class=\"ansi31\">how</span>            <span class=\"ansi31\">transaction</span>              \n\n<span class=\"ansi32\">languagelets</span>      start <span class=\"ansi32\">heare</span> is <span class=\"ansi32\">the</span> <span class=\"ansi32\">rold</span> play of the    <span class=\"ansi32\">upto</span> <span class=\"ansi32\">dayt</span> <span class=\"ansi32\">transassion</span> <span class=\"ansi32\">conversationroalld</span>       <span class=\"ansi32\">e</span>  clip <span class=\"ansi32\">helo</span> <span class=\"ansi32\">ka</span> \n  <span class=\"ansi31\">language</span>   <span class=\"ansi31\">lets</span>       <span class=\"ansi31\">here</span>      <span class=\"ansi31\">a</span>  <span class=\"ansi31\">role</span>             <span class=\"ansi31\">up</span>  <span class=\"ansi31\">to</span>  <span class=\"ansi31\">date</span> <span class=\"ansi31\">transaction</span>    <span class=\"ansi31\">conversation</span>    <span class=\"ansi31\">roll</span> <span class=\"ansi31\">the</span>      <span class=\"ansi31\">halo</span> <span class=\"ansi31\">kak</span>\n\n<span class=\"ansi32\">thi</span> sini <span class=\"ansi32\">anda</span> jual        <span class=\"ansi32\">effontiga</span> <span class=\"ansi32\">velah</span>       <span class=\"ansi32\">saya</span> <span class=\"ansi32\">helo</span> <span class=\"ansi32\">kah</span> maaf <span class=\"ansi32\">belom</span> ada <span class=\"ansi32\">adanyak</span> <span class=\"ansi32\">lifar</span>  dua belas <span class=\"ansi32\">browe</span> dan <span class=\"ansi32\">ifanse</span>\n<span class=\"ansi31\">di</span>       <span class=\"ansi31\">ada</span>       <span class=\"ansi31\">iphone</span>   <span class=\"ansi31\">tiga</span>    <span class=\"ansi31\">belas</span> <span class=\"ansi31\">nggak</span>  <span class=\"ansi31\">ya</span>  <span class=\"ansi31\">halo</span> <span class=\"ansi31\">kak</span>      <span class=\"ansi31\">belum</span>     <span class=\"ansi31\">adanya</span>  <span class=\"ansi31\">iphone</span>            <span class=\"ansi31\">pro</span>      <span class=\"ansi31\">iphone</span>\n\n <span class=\"ansi32\">belas</span>      <span class=\"ansi32\">lihat</span> carinya sih  <span class=\"ansi32\">aant</span>  <span class=\"ansi32\">tingu</span> belas ah <span class=\"ansi32\">tarribut</span>       <span class=\"ansi32\">tday</span> <span class=\"ansi32\">leya</span>  <span class=\"ansi32\">tan</span>  dua belas <span class=\"ansi32\">brook</span> <span class=\"ansi32\">selefan</span>  oh <span class=\"ansi32\">nyea</span> ini\n<span class=\"ansi31\">sebelas</span> <span class=\"ansi31\">mau</span> <span class=\"ansi31\">liat</span>              <span class=\"ansi31\">iphone</span> <span class=\"ansi31\">tiga</span>             <span class=\"ansi31\">tapi</span>   <span class=\"ansi31\">boleh</span> <span class=\"ansi31\">deh</span>  <span class=\"ansi31\">lihat</span> <span class=\"ansi31\">yang</span>            <span class=\"ansi31\">pro</span>  <span class=\"ansi31\">silahkan</span>    <span class=\"ansi31\">yang</span>    \n\n<span class=\"ansi32\">syatse</span> berapa dan <span class=\"ansi32\">halganya</span> <span class=\"ansi32\">berapaoyang</span>         itu <span class=\"ansi32\">sisnya</span>  seratus     <span class=\"ansi32\">sudah</span> <span class=\"ansi32\">bedelapan</span> <span class=\"ansi32\">bigabai</span>  dan harganya lima belas\n <span class=\"ansi31\">size</span>             <span class=\"ansi31\">harganya</span>   <span class=\"ansi31\">berapa</span>    <span class=\"ansi31\">oh</span> <span class=\"ansi31\">yang</span>     <span class=\"ansi31\">sizenya</span>         <span class=\"ansi31\">dua</span> <span class=\"ansi31\">puluh</span>  <span class=\"ansi31\">delapan</span>  <span class=\"ansi31\">gigabyte</span>                        \n\n<span class=\"ansi32\">jutaka</span>     <span class=\"ansi32\">m</span>  <span class=\"ansi32\">unduh</span>  <span class=\"ansi32\">tis</span>   <span class=\"ansi32\">colga</span> <span class=\"ansi32\">adakah</span>     <span class=\"ansi32\">kalou</span> bayar ful  <span class=\"ansi32\">dis</span>   <span class=\"ansi32\">con</span> satu      <span class=\"ansi32\">jutakokay</span> <span class=\"ansi32\">tapik</span> <span class=\"ansi32\">seffic</span>  <span class=\"ansi32\">an</span>    <span class=\"ansi32\">becan</span>   \n <span class=\"ansi31\">juta</span>  <span class=\"ansi31\">kak</span> <span class=\"ansi31\">oh</span>  <span class=\"ansi31\">ada</span>  <span class=\"ansi31\">diskon</span> <span class=\"ansi31\">nggak</span>  <span class=\"ansi31\">ada</span>   <span class=\"ansi31\">kak</span> <span class=\"ansi31\">kalau</span>           <span class=\"ansi31\">diskon</span>          <span class=\"ansi31\">juta</span>   <span class=\"ansi31\">okay</span>    <span class=\"ansi31\">tapi</span>         <span class=\"ansi31\">saya</span> <span class=\"ansi31\">pikirpikir</span>\n\n<span class=\"ansi32\">luli</span> <span class=\"ansi32\">ah</span> <span class=\"ansi32\">maha</span>   <span class=\"ansi32\">sih</span>   sama sama lets look at the conversation a <span class=\"ansi32\">littl</span>  bit <span class=\"ansi32\">closerhelku</span>          <span class=\"ansi32\">ka</span>  means older brother\n<span class=\"ansi31\">dulu</span>     <span class=\"ansi31\">ya</span>  <span class=\"ansi31\">makasih</span>                                           <span class=\"ansi31\">little</span>       <span class=\"ansi31\">closer</span>    <span class=\"ansi31\">halo</span> <span class=\"ansi31\">kak</span> <span class=\"ansi31\">kak</span>                    \n\nor older <span class=\"ansi32\">sisterwe</span>    use it here as a <span class=\"ansi32\">certusy</span>  of calling someone that you dont know if its the same <span class=\"ansi32\">eage</span> or someone\n          <span class=\"ansi31\">sister</span>  <span class=\"ansi31\">we</span>                  <span class=\"ansi31\">courtesy</span>                                                       <span class=\"ansi31\">age</span>            \n\nthats older or younger we prefer <span class=\"ansi32\">to</span> <span class=\"ansi32\">cal</span>  it     <span class=\"ansi32\">kutsome</span> people use <span class=\"ansi32\">but</span>  as an older sister or mas as an older\n                                    <span class=\"ansi31\">call</span>    <span class=\"ansi31\">kak</span>  <span class=\"ansi31\">some</span>              <span class=\"ansi31\">mbak</span>                                      \n\n<span class=\"ansi32\">brotherthis</span>      is a  <span class=\"ansi32\">jaffan</span>  <span class=\"ansi32\">expressionif</span>    your indonesia you also <span class=\"ansi32\">experient</span>  <span class=\"ansi32\">but</span>  <span class=\"ansi32\">whic</span>  is the same as older sister\n  <span class=\"ansi31\">brother</span>   <span class=\"ansi31\">this</span>      <span class=\"ansi31\">javanese</span>   <span class=\"ansi31\">version</span>    <span class=\"ansi31\">if</span>                         <span class=\"ansi31\">experience</span> <span class=\"ansi31\">mbak</span> <span class=\"ansi31\">which</span>                            \n\nor <span class=\"ansi32\">about</span> which means older brother this is the <span class=\"ansi32\">botawi</span> or or for someone thats <span class=\"ansi32\">comming</span> from <span class=\"ansi32\">jukartathis</span>      <span class=\"ansi32\">akaind</span> of\n   <span class=\"ansi31\">bang</span>                                        <span class=\"ansi31\">betawi</span>                         <span class=\"ansi31\">coming</span>         <span class=\"ansi31\">jakarta</span>   <span class=\"ansi31\">this</span>  <span class=\"ansi31\">kind</span>    \n\ncalling <span class=\"ansi32\">its</span> different in each      <span class=\"ansi32\">erain</span> <span class=\"ansi32\">boly</span> <span class=\"ansi32\">an</span> <span class=\"ansi32\">jobjar</span> in aceh <span class=\"ansi32\">the</span>  all have different way of         <span class=\"ansi32\">callinghowever</span> i\n        <span class=\"ansi31\">is</span>                    <span class=\"ansi31\">area</span>  <span class=\"ansi31\">in</span>   <span class=\"ansi31\">bali</span> <span class=\"ansi31\">in</span> <span class=\"ansi31\">jogja</span>          <span class=\"ansi31\">they</span>                           <span class=\"ansi31\">calling</span>    <span class=\"ansi31\">however</span>      \n\nprefer to <span class=\"ansi32\">calle</span> <span class=\"ansi32\">themkat</span>     as       <span class=\"ansi32\">tastha</span> indonesian language for older brother or older sister i dont have to <span class=\"ansi32\">chanje</span>\n          <span class=\"ansi31\">call</span>   <span class=\"ansi31\">them</span>   <span class=\"ansi31\">kak</span>    <span class=\"ansi31\">thats</span>  <span class=\"ansi31\">the</span>                                                                        <span class=\"ansi31\">change</span>\n\nmy calling in every area and its <span class=\"ansi32\">nasional</span> so wherever you go using <span class=\"ansi32\">ku</span>  its <span class=\"ansi32\">vali</span>  and <span class=\"ansi32\">forbles</span>      <span class=\"ansi32\">enderthi</span>    sini <span class=\"ansi32\">anda</span>\n                                 <span class=\"ansi31\">national</span>                          <span class=\"ansi31\">kak</span>     <span class=\"ansi31\">valid</span>       <span class=\"ansi31\">for</span>   <span class=\"ansi31\">both</span>  <span class=\"ansi31\">gender</span>  <span class=\"ansi31\">di</span>      <span class=\"ansi31\">ada</span> \n\njual        <span class=\"ansi32\">efpontiga</span> <span class=\"ansi32\">velah</span>       <span class=\"ansi32\">saya</span> <span class=\"ansi32\">thi</span> <span class=\"ansi32\">s</span> <span class=\"ansi32\">ini</span>  means <span class=\"ansi32\">hear</span>     <span class=\"ansi32\">underjuel</span> means <span class=\"ansi32\">hass</span> <span class=\"ansi32\">out</span>  or do you <span class=\"ansi32\">selfso</span>    it means\n     <span class=\"ansi31\">iphone</span>   <span class=\"ansi31\">tiga</span>    <span class=\"ansi31\">belas</span> <span class=\"ansi31\">nggak</span>  <span class=\"ansi31\">ya</span>  <span class=\"ansi31\">di</span>    <span class=\"ansi31\">sini</span>       <span class=\"ansi31\">here</span> <span class=\"ansi31\">ada</span>   <span class=\"ansi31\">jual</span>          <span class=\"ansi31\">has</span>  <span class=\"ansi31\">sell</span>            <span class=\"ansi31\">sell</span>  <span class=\"ansi31\">so</span>         \n\ndo you <span class=\"ansi32\">seillh</span> <span class=\"ansi32\">iv</span>   <span class=\"ansi32\">on</span>    <span class=\"ansi32\">therti</span>  here if you <span class=\"ansi32\">one</span>     <span class=\"ansi32\">about</span> a pen this is how <span class=\"ansi32\">ou</span>  ask <span class=\"ansi32\">thi</span> sini ada      <span class=\"ansi32\">juelpen</span> if you\n        <span class=\"ansi31\">sell</span>     <span class=\"ansi31\">iphone</span> <span class=\"ansi31\">thirteen</span>             <span class=\"ansi31\">want</span> <span class=\"ansi31\">to</span>  <span class=\"ansi31\">buy</span>                    <span class=\"ansi31\">you</span>     <span class=\"ansi31\">di</span>           <span class=\"ansi31\">jual</span>   <span class=\"ansi31\">pen</span>         \n\nare looking for   <span class=\"ansi32\">aboot</span> <span class=\"ansi32\">thi</span> sini ada <span class=\"ansi32\">joal</span> <span class=\"ansi32\">bukulif</span>    your asking for <span class=\"ansi32\">ar</span> <span class=\"ansi32\">remoot</span> <span class=\"ansi32\">thi</span> <span class=\"ansi32\">sinianda</span>     <span class=\"ansi32\">jialah</span>       <span class=\"ansi32\">remotplease</span>\n                <span class=\"ansi31\">a</span> <span class=\"ansi31\">book</span>  <span class=\"ansi31\">di</span>           <span class=\"ansi31\">jual</span>  <span class=\"ansi31\">buku</span>   <span class=\"ansi31\">if</span>                 <span class=\"ansi31\">a</span>  <span class=\"ansi31\">remote</span> <span class=\"ansi31\">di</span>    <span class=\"ansi31\">sini</span>   <span class=\"ansi31\">ada</span>  <span class=\"ansi31\">jual</span>  <span class=\"ansi31\">remot</span>   <span class=\"ansi31\">please</span>   \n\n<span class=\"ansi32\">knowt</span> that this is <span class=\"ansi32\">ferbal</span> and informal so you can not use this if its a formal location or a <span class=\"ansi32\">witten</span>      <span class=\"ansi32\">onebut</span> if you\n<span class=\"ansi31\">note</span>               <span class=\"ansi31\">verbal</span>                                                                    <span class=\"ansi31\">written</span> <span class=\"ansi31\">one</span>  <span class=\"ansi31\">but</span>         \n\nare in a formal location <span class=\"ansi32\">ind</span>  <span class=\"ansi32\">mi</span>  say <span class=\"ansi32\">your</span>      <span class=\"ansi32\">deliver</span>   <span class=\"ansi32\">in</span> <span class=\"ansi32\">yor</span> <span class=\"ansi32\">speach</span> you have to say it apakah <span class=\"ansi32\">this</span> <span class=\"ansi32\">inia</span> <span class=\"ansi32\">menjoel</span> buku\n                         <span class=\"ansi31\">and</span> <span class=\"ansi31\">lets</span>     <span class=\"ansi31\">you</span>  <span class=\"ansi31\">are</span> <span class=\"ansi31\">delivering</span>     <span class=\"ansi31\">a</span>  <span class=\"ansi31\">speech</span>                            <span class=\"ansi31\">di</span>  <span class=\"ansi31\">sini</span> <span class=\"ansi31\">menjual</span>     \n\napakah <span class=\"ansi32\">this</span> <span class=\"ansi32\">ini</span>  <span class=\"ansi32\">menjoal</span> pen but if you say this <span class=\"ansi32\">and</span> <span class=\"ansi32\">re</span> <span class=\"ansi32\">stor</span>  its just <span class=\"ansi32\">two</span> formal <span class=\"ansi32\">sitse</span> berapa dan <span class=\"ansi32\">haw</span>  <span class=\"ansi32\">ganyau</span> \n        <span class=\"ansi31\">di</span>  <span class=\"ansi31\">sini</span> <span class=\"ansi31\">menjual</span>                         <span class=\"ansi31\">in</span>  <span class=\"ansi31\">a</span>  <span class=\"ansi31\">store</span>          <span class=\"ansi31\">too</span>        <span class=\"ansi31\">size</span>                 <span class=\"ansi31\">harganya</span>\n\n<span class=\"ansi32\">berapaharga</span>       means price berapa means how much or how many we use berapa for asking every <span class=\"ansi32\">nombersivnd</span>      for\n  <span class=\"ansi31\">berapa</span>    <span class=\"ansi31\">harga</span>                                                                                <span class=\"ansi31\">numbers</span>   <span class=\"ansi31\">even</span>    \n\nasking the time we actually use <span class=\"ansi32\">berapajam</span>     berapa what time is it mau berapa saya <span class=\"ansi32\">mausbul</span>         <span class=\"ansi32\">lois</span> <span class=\"ansi32\">ondar</span>  <span class=\"ansi32\">dis</span>  \n                                 <span class=\"ansi31\">berapa</span>   <span class=\"ansi31\">jam</span>                                          <span class=\"ansi31\">mau</span>   <span class=\"ansi31\">sepuluh</span> <span class=\"ansi31\">pis</span>   <span class=\"ansi31\">ada</span>  <span class=\"ansi31\">diskon</span>\n\n<span class=\"ansi32\">congo</span> <span class=\"ansi32\">anda</span> <span class=\"ansi32\">dhisconga</span>       means do you got <span class=\"ansi32\">andive</span> <span class=\"ansi32\">countwe</span>     usually say ada           <span class=\"ansi32\">belaelabla</span>  <span class=\"ansi32\">ga</span>   if i\n<span class=\"ansi31\">nggak</span> <span class=\"ansi31\">ada</span>   <span class=\"ansi31\">diskon</span>   <span class=\"ansi31\">nggak</span>                   <span class=\"ansi31\">any</span>   <span class=\"ansi31\">discount</span> <span class=\"ansi31\">we</span>                 <span class=\"ansi31\">blah</span> <span class=\"ansi31\">blah</span>    <span class=\"ansi31\">blah</span>    <span class=\"ansi31\">nggak</span>     \n\ntranslated  <span class=\"ansi32\">literal</span>  <span class=\"ansi32\">into</span> english its have iphone or    <span class=\"ansi32\">nohavd</span> book or    <span class=\"ansi32\">noada</span> <span class=\"ansi32\">bukungga</span>       ada ada     <span class=\"ansi32\">pengga</span> ada\n           <span class=\"ansi31\">literally</span>  <span class=\"ansi31\">to</span>                             <span class=\"ansi31\">no</span>  <span class=\"ansi31\">have</span>          <span class=\"ansi31\">no</span>  <span class=\"ansi31\">ada</span>    <span class=\"ansi31\">buku</span>   <span class=\"ansi31\">nggak</span>         <span class=\"ansi31\">pen</span> <span class=\"ansi31\">nggak</span>     \n\n<span class=\"ansi32\">anda</span>                <span class=\"ansi32\">onda</span> <span class=\"ansi32\">kadaokay</span> tapi saya     <span class=\"ansi32\">pe</span>     <span class=\"ansi32\">can</span> <span class=\"ansi32\">beg</span> <span class=\"ansi32\">doly</span> <span class=\"ansi32\">ah</span> <span class=\"ansi32\">mahasih</span> okay let me think about it first thank\n<span class=\"ansi31\">ada</span>  <span class=\"ansi31\">uang</span> <span class=\"ansi31\">nggak</span> <span class=\"ansi31\">gak</span> <span class=\"ansi31\">ada</span>    <span class=\"ansi31\">okay</span>             <span class=\"ansi31\">pikirpikir</span>         <span class=\"ansi31\">dulu</span> <span class=\"ansi31\">ya</span> <span class=\"ansi31\">makasih</span>                                       \n\nyou <span class=\"ansi32\">bek</span>  <span class=\"ansi32\">ir</span>   means <span class=\"ansi32\">singk</span> <span class=\"ansi32\">becan</span>   <span class=\"ansi32\">pekir</span>    means think about <span class=\"ansi32\">itjedi</span>  <span class=\"ansi32\">i</span>    <span class=\"ansi32\">mana</span>  <span class=\"ansi32\">mause</span> <span class=\"ansi32\">collar</span>  di mana <span class=\"ansi32\">beca</span>  <span class=\"ansi32\">beakare</span>  \n        <span class=\"ansi31\">pikir</span>       <span class=\"ansi31\">think</span>       <span class=\"ansi31\">pikirpikir</span>                     <span class=\"ansi31\">it</span>   <span class=\"ansi31\">jadi</span> <span class=\"ansi31\">gimana</span>  <span class=\"ansi31\">mau</span>  <span class=\"ansi31\">sekolah</span>              <span class=\"ansi31\">pikirpikir</span>\n\n<span class=\"ansi32\">dulia</span>    <span class=\"ansi32\">okayi</span>   hope you find this <span class=\"ansi32\">videor</span> helpful and let me know if i should continue making this <span class=\"ansi32\">cain</span> of video or    \n<span class=\"ansi31\">dulu</span>  <span class=\"ansi31\">ya</span> <span class=\"ansi31\">okay</span>  <span class=\"ansi31\">i</span>                    <span class=\"ansi31\">video</span>                                                           <span class=\"ansi31\">kind</span>             <span class=\"ansi31\">not</span>\n\n<span class=\"ansi32\">notyou</span> can use all the sentence that i use thats how <span class=\"ansi32\">you</span> talk in     <span class=\"ansi32\">ordarly</span> <span class=\"ansi32\">conversitionn</span>    the next video i will <span class=\"ansi32\">tel</span> \n <span class=\"ansi31\">you</span>                                                 <span class=\"ansi31\">we</span>          <span class=\"ansi31\">our</span>  <span class=\"ansi31\">daily</span>  <span class=\"ansi31\">conversation</span>  <span class=\"ansi31\">in</span>                       <span class=\"ansi31\">tell</span>\n\nyou how to tell <span class=\"ansi32\">th</span>  time in indonesian <span class=\"ansi32\">languagesee</span>     you there bye\n                <span class=\"ansi31\">the</span>                     <span class=\"ansi31\">language</span>   <span class=\"ansi31\">see</span>              \n</pre>\n</body>\n\n</html>\n</div>"
          }
        },
        "ba1b0d992bdd4afdb125300609df9884": {
          "model_module": "@jupyter-widgets/base",
          "model_name": "LayoutModel",
          "model_module_version": "1.2.0",
          "state": {
            "_model_module": "@jupyter-widgets/base",
            "_model_module_version": "1.2.0",
            "_model_name": "LayoutModel",
            "_view_count": null,
            "_view_module": "@jupyter-widgets/base",
            "_view_module_version": "1.2.0",
            "_view_name": "LayoutView",
            "align_content": null,
            "align_items": null,
            "align_self": null,
            "border": null,
            "bottom": null,
            "display": null,
            "flex": null,
            "flex_flow": null,
            "grid_area": null,
            "grid_auto_columns": null,
            "grid_auto_flow": null,
            "grid_auto_rows": null,
            "grid_column": null,
            "grid_gap": null,
            "grid_row": null,
            "grid_template_areas": null,
            "grid_template_columns": null,
            "grid_template_rows": null,
            "height": null,
            "justify_content": null,
            "justify_items": null,
            "left": null,
            "margin": null,
            "max_height": null,
            "max_width": null,
            "min_height": null,
            "min_width": null,
            "object_fit": null,
            "object_position": null,
            "order": null,
            "overflow": null,
            "overflow_x": null,
            "overflow_y": null,
            "padding": null,
            "right": null,
            "top": null,
            "visibility": null,
            "width": null
          }
        },
        "2e51d955d950475cbc066853650b12c0": {
          "model_module": "@jupyter-widgets/controls",
          "model_name": "HTMLModel",
          "model_module_version": "1.5.0",
          "state": {
            "_dom_classes": [],
            "_model_module": "@jupyter-widgets/controls",
            "_model_module_version": "1.5.0",
            "_model_name": "HTMLModel",
            "_view_count": null,
            "_view_module": "@jupyter-widgets/controls",
            "_view_module_version": "1.5.0",
            "_view_name": "HTMLView",
            "description": "",
            "description_tooltip": null,
            "layout": "IPY_MODEL_e0069e62a13d4d80917ead7999be330c",
            "placeholder": "​",
            "style": "IPY_MODEL_842899c1a8714d2eb2a835d6520524bd",
            "value": "<div class='ref_text'>hine welcome to five minute indonesian my name is eiphel in the previace video wev learn about milions and billion speasicly abut nombers so lets bee onemean this video i will teach you howe to make a transection in indonesian languagelets start heare is the rold play of the upto dayt transassion conversationroalld e clip helo ka thi sini anda jual effontiga velah saya helo kah maaf belom ada adanyak lifar dua belas browe dan ifanse belas lihat carinya sih aant tingu belas ah tarribut tday leya tan dua belas brook selefan oh nyea ini syatse berapa dan halganya berapaoyang itu sisnya seratus sudah bedelapan bigabai dan harganya lima belas jutaka m unduh tis colga adakah kalou bayar ful dis con satu jutakokay tapik seffic an becan luli ah maha sih sama sama lets look at the conversation a littl bit closerhelku ka means older brother or older sisterwe use it here as a certusy of calling someone that you dont know if its the same eage or someone thats older or younger we prefer to cal it kutsome people use but as an older sister or mas as an older brotherthis is a jaffan expressionif your indonesia you also experient but whic is the same as older sister or about which means older brother this is the botawi or or for someone thats comming from jukartathis akaind of calling its different in each erain boly an jobjar in aceh the all have different way of callinghowever i prefer to calle themkat as tastha indonesian language for older brother or older sister i dont have to chanje my calling in every area and its nasional so wherever you go using ku its vali and forbles enderthi sini anda jual efpontiga velah saya thi s ini means hear underjuel means hass out or do you selfso it means do you seillh iv on therti here if you one about a pen this is how ou ask thi sini ada juelpen if you are looking for aboot thi sini ada joal bukulif your asking for ar remoot thi sinianda jialah remotplease knowt that this is ferbal and informal so you can not use this if its a formal location or a witten onebut if you are in a formal location ind mi say your deliver in yor speach you have to say it apakah this inia menjoel buku apakah this ini menjoal pen but if you say this and re stor its just two formal sitse berapa dan haw ganyau berapaharga means price berapa means how much or how many we use berapa for asking every nombersivnd for asking the time we actually use berapajam berapa what time is it mau berapa saya mausbul lois ondar dis congo anda dhisconga means do you got andive countwe usually say ada belaelabla ga if i translated literal into english its have iphone or nohavd book or noada bukungga ada ada pengga ada anda onda kadaokay tapi saya pe can beg doly ah mahasih okay let me think about it first thank you bek ir means singk becan pekir means think about itjedi i mana mause collar di mana beca beakare dulia okayi hope you find this videor helpful and let me know if i should continue making this cain of video or notyou can use all the sentence that i use thats how you talk in ordarly conversitionn the next video i will tel you how to tell th time in indonesian languagesee you there bye</div>"
          }
        },
        "f4f58ad5c2b24f1c889d8237b2a36414": {
          "model_module": "@jupyter-widgets/controls",
          "model_name": "HTMLModel",
          "model_module_version": "1.5.0",
          "state": {
            "_dom_classes": [],
            "_model_module": "@jupyter-widgets/controls",
            "_model_module_version": "1.5.0",
            "_model_name": "HTMLModel",
            "_view_count": null,
            "_view_module": "@jupyter-widgets/controls",
            "_view_module_version": "1.5.0",
            "_view_name": "HTMLView",
            "description": "",
            "description_tooltip": null,
            "layout": "IPY_MODEL_28a7c473adde44b0a2551020f1f6a618",
            "placeholder": "​",
            "style": "IPY_MODEL_3a1038b821e94735a46858762b6e74b1",
            "value": "<div class='inf_text'>hi  welcome to five minute indonesian my name is eiphel in the previous video weve learned about millions and billions basically about numbers so lets move on in this video i will teach you how to make a transaction in indonesian language lets start here is a role play of the up to date transaction conversation roll the clip halo kak di sini ada jual iphone tiga belas nggak ya halo kak maaf belum ada adanya iphone dua belas pro dan iphone sebelas mau liat carinya sih iphone tiga belas ah tapi boleh deh lihat yang dua belas pro silahkan oh yang ini size berapa dan harganya berapa oh yang itu sizenya seratus dua puluh delapan gigabyte dan harganya lima belas juta kak oh ada diskon nggak ada kak kalau bayar ful diskon satu juta okay tapi saya pikirpikir dulu ya makasih sama sama lets look at the conversation a little bit closer halo kak kak means older brother or older sister we use it here as a courtesy of calling someone that you dont know if its the same age or someone thats older or younger we prefer call it kak some people use mbak as an older sister or mas as an older brother this is a javanese version if your indonesia you also experience mbak which is the same as older sister or bang which means older brother this is the betawi or or for someone thats coming from jakarta this kind of calling is different in each area in bali in jogja in aceh they all have different way of calling however i prefer to call them kak as thats the indonesian language for older brother or older sister i dont have to change my calling in every area and its national so wherever you go using kak its valid and for both gender di sini ada jual iphone tiga belas nggak ya di sini means here ada jual means has sell or do you sell so it means do you sell iphone thirteen here if you want to buy a pen this is how you ask di sini ada jual pen if you are looking for a book di sini ada jual buku if your asking for a remote di sini ada jual remot please note that this is verbal and informal so you can not use this if its a formal location or a written one but if you are in a formal location and lets say you are delivering a speech you have to say it apakah di sini menjual buku apakah di sini menjual pen but if you say this in a store its just too formal size berapa dan harganya berapa harga means price berapa means how much or how many we use berapa for asking every numbers even for asking the time we actually use berapa jam berapa what time is it mau berapa saya mau sepuluh pis ada diskon nggak ada diskon nggak means do you got any discount we usually say ada blah blah blah nggak if i translated literally to english its have iphone or no have book or no ada buku nggak ada ada pen nggak ada ada uang nggak gak ada okay tapi saya pikirpikir dulu ya makasih okay let me think about it first thank you pikir means think pikirpikir means think about it jadi gimana mau sekolah di mana pikirpikir dulu ya okay i hope you find this video helpful and let me know if i should continue making this kind of video or not you can use all the sentence that i use thats how we talk in our daily conversation in the next video i will tell you how to tell the time in indonesian language see you there bye\n</div>"
          }
        },
        "13eff7a00de946d6a3318956c43b0780": {
          "model_module": "@jupyter-widgets/base",
          "model_name": "LayoutModel",
          "model_module_version": "1.2.0",
          "state": {
            "_model_module": "@jupyter-widgets/base",
            "_model_module_version": "1.2.0",
            "_model_name": "LayoutModel",
            "_view_count": null,
            "_view_module": "@jupyter-widgets/base",
            "_view_module_version": "1.2.0",
            "_view_name": "LayoutView",
            "align_content": null,
            "align_items": null,
            "align_self": null,
            "border": null,
            "bottom": null,
            "display": null,
            "flex": null,
            "flex_flow": null,
            "grid_area": null,
            "grid_auto_columns": null,
            "grid_auto_flow": null,
            "grid_auto_rows": null,
            "grid_column": null,
            "grid_gap": null,
            "grid_row": null,
            "grid_template_areas": null,
            "grid_template_columns": null,
            "grid_template_rows": null,
            "height": null,
            "justify_content": null,
            "justify_items": null,
            "left": null,
            "margin": null,
            "max_height": null,
            "max_width": null,
            "min_height": null,
            "min_width": null,
            "object_fit": null,
            "object_position": null,
            "order": null,
            "overflow": null,
            "overflow_x": null,
            "overflow_y": null,
            "padding": null,
            "right": null,
            "top": null,
            "visibility": null,
            "width": null
          }
        },
        "3be3d59d035942f3914cb29642799838": {
          "model_module": "@jupyter-widgets/base",
          "model_name": "LayoutModel",
          "model_module_version": "1.2.0",
          "state": {
            "_model_module": "@jupyter-widgets/base",
            "_model_module_version": "1.2.0",
            "_model_name": "LayoutModel",
            "_view_count": null,
            "_view_module": "@jupyter-widgets/base",
            "_view_module_version": "1.2.0",
            "_view_name": "LayoutView",
            "align_content": null,
            "align_items": null,
            "align_self": null,
            "border": null,
            "bottom": null,
            "display": null,
            "flex": null,
            "flex_flow": null,
            "grid_area": null,
            "grid_auto_columns": null,
            "grid_auto_flow": null,
            "grid_auto_rows": null,
            "grid_column": null,
            "grid_gap": null,
            "grid_row": null,
            "grid_template_areas": null,
            "grid_template_columns": null,
            "grid_template_rows": null,
            "height": null,
            "justify_content": null,
            "justify_items": null,
            "left": null,
            "margin": null,
            "max_height": null,
            "max_width": null,
            "min_height": null,
            "min_width": null,
            "object_fit": null,
            "object_position": null,
            "order": null,
            "overflow": null,
            "overflow_x": null,
            "overflow_y": null,
            "padding": null,
            "right": null,
            "top": null,
            "visibility": null,
            "width": null
          }
        },
        "1a1b53ee530f4f3d9d343e8c6f739393": {
          "model_module": "@jupyter-widgets/controls",
          "model_name": "DescriptionStyleModel",
          "model_module_version": "1.5.0",
          "state": {
            "_model_module": "@jupyter-widgets/controls",
            "_model_module_version": "1.5.0",
            "_model_name": "DescriptionStyleModel",
            "_view_count": null,
            "_view_module": "@jupyter-widgets/base",
            "_view_module_version": "1.2.0",
            "_view_name": "StyleView",
            "description_width": ""
          }
        },
        "d8005cd6e3e74132b729c17feb21a54c": {
          "model_module": "@jupyter-widgets/base",
          "model_name": "LayoutModel",
          "model_module_version": "1.2.0",
          "state": {
            "_model_module": "@jupyter-widgets/base",
            "_model_module_version": "1.2.0",
            "_model_name": "LayoutModel",
            "_view_count": null,
            "_view_module": "@jupyter-widgets/base",
            "_view_module_version": "1.2.0",
            "_view_name": "LayoutView",
            "align_content": null,
            "align_items": null,
            "align_self": null,
            "border": null,
            "bottom": null,
            "display": null,
            "flex": null,
            "flex_flow": null,
            "grid_area": null,
            "grid_auto_columns": null,
            "grid_auto_flow": null,
            "grid_auto_rows": null,
            "grid_column": null,
            "grid_gap": null,
            "grid_row": null,
            "grid_template_areas": null,
            "grid_template_columns": null,
            "grid_template_rows": null,
            "height": null,
            "justify_content": null,
            "justify_items": null,
            "left": null,
            "margin": null,
            "max_height": null,
            "max_width": null,
            "min_height": null,
            "min_width": null,
            "object_fit": null,
            "object_position": null,
            "order": null,
            "overflow": null,
            "overflow_x": null,
            "overflow_y": null,
            "padding": null,
            "right": null,
            "top": null,
            "visibility": null,
            "width": null
          }
        },
        "85dad9b4281e4234addf1c3417c4691d": {
          "model_module": "@jupyter-widgets/controls",
          "model_name": "DescriptionStyleModel",
          "model_module_version": "1.5.0",
          "state": {
            "_model_module": "@jupyter-widgets/controls",
            "_model_module_version": "1.5.0",
            "_model_name": "DescriptionStyleModel",
            "_view_count": null,
            "_view_module": "@jupyter-widgets/base",
            "_view_module_version": "1.2.0",
            "_view_name": "StyleView",
            "description_width": ""
          }
        },
        "e0069e62a13d4d80917ead7999be330c": {
          "model_module": "@jupyter-widgets/base",
          "model_name": "LayoutModel",
          "model_module_version": "1.2.0",
          "state": {
            "_model_module": "@jupyter-widgets/base",
            "_model_module_version": "1.2.0",
            "_model_name": "LayoutModel",
            "_view_count": null,
            "_view_module": "@jupyter-widgets/base",
            "_view_module_version": "1.2.0",
            "_view_name": "LayoutView",
            "align_content": null,
            "align_items": null,
            "align_self": null,
            "border": null,
            "bottom": null,
            "display": null,
            "flex": null,
            "flex_flow": null,
            "grid_area": null,
            "grid_auto_columns": null,
            "grid_auto_flow": null,
            "grid_auto_rows": null,
            "grid_column": null,
            "grid_gap": null,
            "grid_row": null,
            "grid_template_areas": null,
            "grid_template_columns": null,
            "grid_template_rows": null,
            "height": null,
            "justify_content": null,
            "justify_items": null,
            "left": null,
            "margin": null,
            "max_height": null,
            "max_width": null,
            "min_height": null,
            "min_width": null,
            "object_fit": null,
            "object_position": null,
            "order": null,
            "overflow": null,
            "overflow_x": null,
            "overflow_y": null,
            "padding": null,
            "right": null,
            "top": null,
            "visibility": null,
            "width": null
          }
        },
        "842899c1a8714d2eb2a835d6520524bd": {
          "model_module": "@jupyter-widgets/controls",
          "model_name": "DescriptionStyleModel",
          "model_module_version": "1.5.0",
          "state": {
            "_model_module": "@jupyter-widgets/controls",
            "_model_module_version": "1.5.0",
            "_model_name": "DescriptionStyleModel",
            "_view_count": null,
            "_view_module": "@jupyter-widgets/base",
            "_view_module_version": "1.2.0",
            "_view_name": "StyleView",
            "description_width": ""
          }
        },
        "28a7c473adde44b0a2551020f1f6a618": {
          "model_module": "@jupyter-widgets/base",
          "model_name": "LayoutModel",
          "model_module_version": "1.2.0",
          "state": {
            "_model_module": "@jupyter-widgets/base",
            "_model_module_version": "1.2.0",
            "_model_name": "LayoutModel",
            "_view_count": null,
            "_view_module": "@jupyter-widgets/base",
            "_view_module_version": "1.2.0",
            "_view_name": "LayoutView",
            "align_content": null,
            "align_items": null,
            "align_self": null,
            "border": null,
            "bottom": null,
            "display": null,
            "flex": null,
            "flex_flow": null,
            "grid_area": null,
            "grid_auto_columns": null,
            "grid_auto_flow": null,
            "grid_auto_rows": null,
            "grid_column": null,
            "grid_gap": null,
            "grid_row": null,
            "grid_template_areas": null,
            "grid_template_columns": null,
            "grid_template_rows": null,
            "height": null,
            "justify_content": null,
            "justify_items": null,
            "left": null,
            "margin": null,
            "max_height": null,
            "max_width": null,
            "min_height": null,
            "min_width": null,
            "object_fit": null,
            "object_position": null,
            "order": null,
            "overflow": null,
            "overflow_x": null,
            "overflow_y": null,
            "padding": null,
            "right": null,
            "top": null,
            "visibility": null,
            "width": null
          }
        },
        "3a1038b821e94735a46858762b6e74b1": {
          "model_module": "@jupyter-widgets/controls",
          "model_name": "DescriptionStyleModel",
          "model_module_version": "1.5.0",
          "state": {
            "_model_module": "@jupyter-widgets/controls",
            "_model_module_version": "1.5.0",
            "_model_name": "DescriptionStyleModel",
            "_view_count": null,
            "_view_module": "@jupyter-widgets/base",
            "_view_module_version": "1.2.0",
            "_view_name": "StyleView",
            "description_width": ""
          }
        },
        "ea6a4e4f3cca4082af0d185ebca4ff4c": {
          "model_module": "@jupyter-widgets/output",
          "model_name": "OutputModel",
          "model_module_version": "1.0.0",
          "state": {
            "_dom_classes": [],
            "_model_module": "@jupyter-widgets/output",
            "_model_module_version": "1.0.0",
            "_model_name": "OutputModel",
            "_view_count": null,
            "_view_module": "@jupyter-widgets/output",
            "_view_module_version": "1.0.0",
            "_view_name": "OutputView",
            "layout": "IPY_MODEL_3c371b3b98bc4503a79c96d1d5af1c56",
            "msg_id": "",
            "outputs": [
              {
                "output_type": "display_data",
                "data": {
                  "text/plain": "                               rating 4 word sequences    wer   cer\nZMS_EIP_010_Pronoun_cv_all       None                3  22.22  6.81\nZMS_EIP_013_Transaction_cv_all   None               35  46.56  16.3",
                  "text/html": "\n  <div id=\"df-557acf73-964d-4ae6-8284-3f36deb04445\">\n    <div class=\"colab-df-container\">\n      <div>\n<style scoped>\n    .dataframe tbody tr th:only-of-type {\n        vertical-align: middle;\n    }\n\n    .dataframe tbody tr th {\n        vertical-align: top;\n    }\n\n    .dataframe thead th {\n        text-align: right;\n    }\n</style>\n<table border=\"1\" class=\"dataframe\">\n  <thead>\n    <tr style=\"text-align: right;\">\n      <th></th>\n      <th>rating</th>\n      <th>4 word sequences</th>\n      <th>wer</th>\n      <th>cer</th>\n    </tr>\n  </thead>\n  <tbody>\n    <tr>\n      <th>ZMS_EIP_010_Pronoun_cv_all</th>\n      <td>None</td>\n      <td>3</td>\n      <td>22.22</td>\n      <td>6.81</td>\n    </tr>\n    <tr>\n      <th>ZMS_EIP_013_Transaction_cv_all</th>\n      <td>None</td>\n      <td>35</td>\n      <td>46.56</td>\n      <td>16.3</td>\n    </tr>\n  </tbody>\n</table>\n</div>\n      <button class=\"colab-df-convert\" onclick=\"convertToInteractive('df-557acf73-964d-4ae6-8284-3f36deb04445')\"\n              title=\"Convert this dataframe to an interactive table.\"\n              style=\"display:none;\">\n        \n  <svg xmlns=\"http://www.w3.org/2000/svg\" height=\"24px\"viewBox=\"0 0 24 24\"\n       width=\"24px\">\n    <path d=\"M0 0h24v24H0V0z\" fill=\"none\"/>\n    <path d=\"M18.56 5.44l.94 2.06.94-2.06 2.06-.94-2.06-.94-.94-2.06-.94 2.06-2.06.94zm-11 1L8.5 8.5l.94-2.06 2.06-.94-2.06-.94L8.5 2.5l-.94 2.06-2.06.94zm10 10l.94 2.06.94-2.06 2.06-.94-2.06-.94-.94-2.06-.94 2.06-2.06.94z\"/><path d=\"M17.41 7.96l-1.37-1.37c-.4-.4-.92-.59-1.43-.59-.52 0-1.04.2-1.43.59L10.3 9.45l-7.72 7.72c-.78.78-.78 2.05 0 2.83L4 21.41c.39.39.9.59 1.41.59.51 0 1.02-.2 1.41-.59l7.78-7.78 2.81-2.81c.8-.78.8-2.07 0-2.86zM5.41 20L4 18.59l7.72-7.72 1.47 1.35L5.41 20z\"/>\n  </svg>\n      </button>\n      \n  <style>\n    .colab-df-container {\n      display:flex;\n      flex-wrap:wrap;\n      gap: 12px;\n    }\n\n    .colab-df-convert {\n      background-color: #E8F0FE;\n      border: none;\n      border-radius: 50%;\n      cursor: pointer;\n      display: none;\n      fill: #1967D2;\n      height: 32px;\n      padding: 0 0 0 0;\n      width: 32px;\n    }\n\n    .colab-df-convert:hover {\n      background-color: #E2EBFA;\n      box-shadow: 0px 1px 2px rgba(60, 64, 67, 0.3), 0px 1px 3px 1px rgba(60, 64, 67, 0.15);\n      fill: #174EA6;\n    }\n\n    [theme=dark] .colab-df-convert {\n      background-color: #3B4455;\n      fill: #D2E3FC;\n    }\n\n    [theme=dark] .colab-df-convert:hover {\n      background-color: #434B5C;\n      box-shadow: 0px 1px 3px 1px rgba(0, 0, 0, 0.15);\n      filter: drop-shadow(0px 1px 2px rgba(0, 0, 0, 0.3));\n      fill: #FFFFFF;\n    }\n  </style>\n\n      <script>\n        const buttonEl =\n          document.querySelector('#df-557acf73-964d-4ae6-8284-3f36deb04445 button.colab-df-convert');\n        buttonEl.style.display =\n          google.colab.kernel.accessAllowed ? 'block' : 'none';\n\n        async function convertToInteractive(key) {\n          const element = document.querySelector('#df-557acf73-964d-4ae6-8284-3f36deb04445');\n          const dataTable =\n            await google.colab.kernel.invokeFunction('convertToInteractive',\n                                                     [key], {});\n          if (!dataTable) return;\n\n          const docLinkHtml = 'Like what you see? Visit the ' +\n            '<a target=\"_blank\" href=https://colab.research.google.com/notebooks/data_table.ipynb>data table notebook</a>'\n            + ' to learn more about interactive tables.';\n          element.innerHTML = '';\n          dataTable['output_type'] = 'display_data';\n          await google.colab.output.renderOutput(dataTable, element);\n          const docLink = document.createElement('div');\n          docLink.innerHTML = docLinkHtml;\n          element.appendChild(docLink);\n        }\n      </script>\n    </div>\n  </div>\n  "
                },
                "metadata": {}
              }
            ]
          }
        },
        "3c371b3b98bc4503a79c96d1d5af1c56": {
          "model_module": "@jupyter-widgets/base",
          "model_name": "LayoutModel",
          "model_module_version": "1.2.0",
          "state": {
            "_model_module": "@jupyter-widgets/base",
            "_model_module_version": "1.2.0",
            "_model_name": "LayoutModel",
            "_view_count": null,
            "_view_module": "@jupyter-widgets/base",
            "_view_module_version": "1.2.0",
            "_view_name": "LayoutView",
            "align_content": null,
            "align_items": null,
            "align_self": null,
            "border": null,
            "bottom": null,
            "display": null,
            "flex": null,
            "flex_flow": null,
            "grid_area": null,
            "grid_auto_columns": null,
            "grid_auto_flow": null,
            "grid_auto_rows": null,
            "grid_column": null,
            "grid_gap": null,
            "grid_row": null,
            "grid_template_areas": null,
            "grid_template_columns": null,
            "grid_template_rows": null,
            "height": null,
            "justify_content": null,
            "justify_items": null,
            "left": null,
            "margin": null,
            "max_height": null,
            "max_width": null,
            "min_height": null,
            "min_width": null,
            "object_fit": null,
            "object_position": null,
            "order": null,
            "overflow": null,
            "overflow_x": null,
            "overflow_y": null,
            "padding": null,
            "right": null,
            "top": null,
            "visibility": null,
            "width": null
          }
        }
      }
    }
  },
  "cells": [
    {
      "cell_type": "markdown",
      "source": [
        "# What's all this about?\n",
        "\n",
        "This notebook aims to show reference and inference/hypothesis transcriptions in a way that makes it easier to qualitatively compare the texts and rate them, rather than looking at texts manually. The comparison layout makes use of existing software which aligns the texts, with coloured highlights of differences between the texts. The comparison interface also includes buttons which can be used to add qualitative ratings to the inference text. These ratings can be adjusted, and you can set your own scale such as \"Wow, meh, horrid\".\n",
        "\n",
        "There are a lot of alignment algorithms around, and many papers about using these algorithms, but very few implementations in ways that are easy to incorporate into existing tools. This notebook uses [TextErrors](https://github.com/RuABraun/texterrors), which shows nice summary info about insertions, deletions and substitutions, including how many times each word error occurs. It is designed for command-line usage, but can be adjusted to work in a Colab notebook. Maybe in the future it could be adapted and used in the Elpis GUI.\n",
        "\n",
        "## How?\n",
        "\n",
        "* Get some files to work with\n",
        "* Install the required packages\n",
        "* Prepare the text data\n",
        "* Do the alignment \n",
        "* Build an interface to compare the texts\n",
        "* Compare and rate the text\n"
      ],
      "metadata": {
        "id": "EqU8-zFSw9mw"
      }
    },
    {
      "cell_type": "markdown",
      "source": [
        "# Configuration\n",
        "\n",
        "Run the entire notebook for a demonstration of what this notebook does. It will download some data, process the text and display the evaluation interface. When you are ready to use with your own data, edit the values in these cells to change the rating labels and set a different source folder on Google Drive in here for your own needs."
      ],
      "metadata": {
        "id": "KYyE2r5V7rMy"
      }
    },
    {
      "cell_type": "markdown",
      "source": [
        "Specify the rating labels you want to use by changing the values in the list."
      ],
      "metadata": {
        "id": "Ncuo3pvCrIVR"
      }
    },
    {
      "cell_type": "code",
      "source": [
        "rating_options=['Useless', 'Glance', 'Refer', 'Edit', 'Wow']\n",
        "\n",
        "longest_word_sequence_threshold = 3\n",
        "\n"
      ],
      "metadata": {
        "id": "8gDfITGdrDNV"
      },
      "execution_count": 1,
      "outputs": []
    },
    {
      "cell_type": "markdown",
      "source": [
        "Install the gdown tool to download files from Google Drive by ID"
      ],
      "metadata": {
        "id": "w9yHDeiLwGHS"
      }
    },
    {
      "cell_type": "code",
      "source": [
        "%%capture\n",
        "!pip install gdown\n",
        "import gdown"
      ],
      "metadata": {
        "id": "fANJrBCzeSq4"
      },
      "execution_count": 2,
      "outputs": []
    },
    {
      "cell_type": "markdown",
      "source": [
        "Uncomment the following lines and run this cell to delete previously downloaded files in output folder."
      ],
      "metadata": {
        "id": "cWeWh0v5As2E"
      }
    },
    {
      "cell_type": "code",
      "source": [
        "# import shutil\n",
        "# shutil.rmtree(f\"/content/output\", ignore_errors=True)"
      ],
      "metadata": {
        "id": "RGGJs-Cxdyi9"
      },
      "execution_count": 3,
      "outputs": []
    },
    {
      "cell_type": "markdown",
      "source": [
        "Change the ID value here to suit your data. Get it from the Share link of your folder."
      ],
      "metadata": {
        "id": "x4F8xUJpA0Oc"
      }
    },
    {
      "cell_type": "code",
      "source": [
        "# id = \"1LyBG54tGKuPnRcEDpCvjraXauc7A7U0l\" # cer-test\n",
        "# id = \"1pKpnIrk0603pe8rOr1bshaEMh3jR67CO\" # eaf-ref-inf/output \n",
        "# id = \"1SZEDUlZbmDH-uL5_kitdh4J54PwQwqNe\" # first (millions-sm)\n",
        "id = \"1p2XvJ5a1yPXlf3WNkcTlMMdlav4F4ZxJ\" # second (pronoun and transaction)\n",
        "# id = \"12eQjkZGNtOIS2bHasAvatpUIZUP-RGHZ\" # third (inf v inf)\n",
        "\n",
        "\n",
        "\n",
        "# Change the suffixes here to reflect how your files are named\n",
        "# eg, if your files are named with _ref and _inf suffixes, then you would change these...\n",
        "ref_suffix = \"_0\"\n",
        "inf_suffix = \"_1\"\n",
        "\n",
        "# Probably don't need to change this, but can be used to have separate experiment dirs\n",
        "file_dir = \"output\"\n",
        "\n",
        "# This does the download\n",
        "gdown.download_folder(id=id, output=file_dir, quiet=False)"
      ],
      "metadata": {
        "id": "RBkcc20L6L8o"
      },
      "execution_count": null,
      "outputs": []
    },
    {
      "cell_type": "markdown",
      "source": [
        "## Colab setup\n",
        "\n",
        "These cells install the required packages, set up the notebook and the functions that do the data prep are here. Shouldn't need to change any of this code."
      ],
      "metadata": {
        "id": "WDkkvv-jtnZM"
      }
    },
    {
      "cell_type": "markdown",
      "source": [
        "Set an env var before installation to enable colour output in Colab. See the [issue report here](https://github.com/ipython/ipykernel/issues/1024)."
      ],
      "metadata": {
        "id": "-CSzjStf7n_l"
      }
    },
    {
      "cell_type": "code",
      "source": [
        "%%capture\n",
        "%env FORCE_COLOR=1"
      ],
      "metadata": {
        "id": "u53zRsSLzzFR"
      },
      "execution_count": 5,
      "outputs": []
    },
    {
      "cell_type": "markdown",
      "source": [
        "### Set some styles for better Colab layout."
      ],
      "metadata": {
        "id": "V0Y6qp0o7qSM"
      }
    },
    {
      "cell_type": "code",
      "source": [
        "from IPython.display import display, HTML\n",
        "\n",
        "def set_css_in_cell_output():\n",
        "    display(HTML(\"\"\"<style>\n",
        "        .lm-Widget > .lm-Widget.lm-Panel {\n",
        "            max-height: none !important;\n",
        "        }\n",
        "        .widget-toggle-buttons .widget-label {\n",
        "            display: none !important;\n",
        "        }\n",
        "        .file_panel {\n",
        "            display: flex;\n",
        "            flex-direction: row;\n",
        "            justify-content: space-between;\n",
        "            margin-top: 1em;\n",
        "        }\n",
        "        .ref_text {\n",
        "            border-right: 1px solid pink;\n",
        "            margin-right: 1em;\n",
        "            padding-right: 1em;\n",
        "        }\n",
        "        .inf_text {\n",
        "            margin-left: 1em;\n",
        "        }\n",
        "        .aligned_lines {\n",
        "            border-right: 2px solid pink;\n",
        "            padding-right: 1em;\n",
        "        }\n",
        "        .matched_lines {\n",
        "            margin: 0 2em;\n",
        "            max-width: none;\n",
        "            line-height: 1.5;\n",
        "        }\n",
        "        .matched_lines hr {\n",
        "            border: 0;\n",
        "            border-top: 1px dotted black;\n",
        "        }\n",
        "        .widget-html-content {\n",
        "            line-height: 1.6;\n",
        "        }\n",
        "        </style>\n",
        "\"\"\"))\n",
        "\n",
        "get_ipython().events.register('pre_run_cell', set_css_in_cell_output)"
      ],
      "metadata": {
        "id": "TQaumelEQOYA"
      },
      "execution_count": 6,
      "outputs": []
    },
    {
      "cell_type": "markdown",
      "source": [
        "### Install the required packages"
      ],
      "metadata": {
        "id": "XXRSQUiIs3lk"
      }
    },
    {
      "cell_type": "code",
      "source": [
        "%%capture\n",
        "\n",
        "!pip install texterrors\n",
        "!pip install loguru\n",
        "!pip install termcolor==2.1.0\n",
        "\n",
        "# This library is used to convert the console-colour codes into HTML so we can see them in the notebook\n",
        "!pip install ansi2html\n",
        "\n",
        "# Use an accordion widget to show the content, limiting information overload if multiple ref/inf files.\n",
        "!pip install \"ipywidgets>=7,<8\"\n",
        "\n",
        "# Use BeautifulSoup to parse the coded HTML, to strip the coloured tags and leave remainder text (effectively the longest common word sequences)\n",
        "!pip install bs4\n",
        "\n",
        "# Jiwer for simple WER and CER\n",
        "!pip install jiwer"
      ],
      "metadata": {
        "id": "hSUchsbbuCPk",
        "colab": {
          "base_uri": "https://localhost:8080/",
          "height": 0
        },
        "outputId": "1ada7519-ec5c-4019-a861-2ae2a2c56d4c"
      },
      "execution_count": 7,
      "outputs": [
        {
          "output_type": "display_data",
          "data": {
            "text/plain": [
              "<IPython.core.display.HTML object>"
            ],
            "text/html": [
              "<style>\n",
              "        .lm-Widget > .lm-Widget.lm-Panel {\n",
              "            max-height: none !important;\n",
              "        }\n",
              "        .widget-toggle-buttons .widget-label {\n",
              "            display: none !important;\n",
              "        }\n",
              "        .file_panel {\n",
              "            display: flex;\n",
              "            flex-direction: row;\n",
              "            justify-content: space-between;\n",
              "            margin-top: 1em;\n",
              "        }\n",
              "        .ref_text {\n",
              "            border-right: 1px solid pink;\n",
              "            margin-right: 1em;\n",
              "            padding-right: 1em;\n",
              "        }\n",
              "        .inf_text {\n",
              "            margin-left: 1em;\n",
              "        }\n",
              "        .aligned_lines {\n",
              "            border-right: 2px solid pink;\n",
              "            padding-right: 1em;\n",
              "        }\n",
              "        .matched_lines {\n",
              "            margin: 0 2em;\n",
              "            max-width: none;\n",
              "            line-height: 1.5;\n",
              "        }\n",
              "        .matched_lines hr {\n",
              "            border: 0;\n",
              "            border-top: 1px dotted black;\n",
              "        }\n",
              "        .widget-html-content {\n",
              "            line-height: 1.6;\n",
              "        }\n",
              "        </style>\n"
            ]
          },
          "metadata": {}
        }
      ]
    },
    {
      "cell_type": "markdown",
      "source": [
        "Import libraries"
      ],
      "metadata": {
        "id": "e00iEC7Z75bK"
      }
    },
    {
      "cell_type": "code",
      "source": [
        "import io\n",
        "import ipywidgets as widgets\n",
        "import pandas as pd\n",
        "import texterrors\n",
        "import difflib\n",
        "import os\n",
        "import jiwer\n",
        "from ansi2html import Ansi2HTMLConverter\n",
        "from dataclasses import dataclass\n",
        "from pathlib import Path\n",
        "from natsort import natsorted\n",
        "from typing import List, Match\n"
      ],
      "metadata": {
        "id": "Q_M_ZAY1tfcp",
        "colab": {
          "base_uri": "https://localhost:8080/",
          "height": 0
        },
        "outputId": "8ffdcd97-32bb-46eb-eded-6463814f8369"
      },
      "execution_count": 8,
      "outputs": [
        {
          "output_type": "display_data",
          "data": {
            "text/plain": [
              "<IPython.core.display.HTML object>"
            ],
            "text/html": [
              "<style>\n",
              "        .lm-Widget > .lm-Widget.lm-Panel {\n",
              "            max-height: none !important;\n",
              "        }\n",
              "        .widget-toggle-buttons .widget-label {\n",
              "            display: none !important;\n",
              "        }\n",
              "        .file_panel {\n",
              "            display: flex;\n",
              "            flex-direction: row;\n",
              "            justify-content: space-between;\n",
              "            margin-top: 1em;\n",
              "        }\n",
              "        .ref_text {\n",
              "            border-right: 1px solid pink;\n",
              "            margin-right: 1em;\n",
              "            padding-right: 1em;\n",
              "        }\n",
              "        .inf_text {\n",
              "            margin-left: 1em;\n",
              "        }\n",
              "        .aligned_lines {\n",
              "            border-right: 2px solid pink;\n",
              "            padding-right: 1em;\n",
              "        }\n",
              "        .matched_lines {\n",
              "            margin: 0 2em;\n",
              "            max-width: none;\n",
              "            line-height: 1.5;\n",
              "        }\n",
              "        .matched_lines hr {\n",
              "            border: 0;\n",
              "            border-top: 1px dotted black;\n",
              "        }\n",
              "        .widget-html-content {\n",
              "            line-height: 1.6;\n",
              "        }\n",
              "        </style>\n"
            ]
          },
          "metadata": {}
        }
      ]
    },
    {
      "cell_type": "markdown",
      "source": [
        "Optionally, remove the logger output. Seems to be required because of some internal logging in the TextErrors library."
      ],
      "metadata": {
        "id": "PBoF4kuetgzZ"
      }
    },
    {
      "cell_type": "code",
      "source": [
        "from loguru import logger\n",
        "logger.remove()"
      ],
      "metadata": {
        "id": "1DT_Q-VA9HwT",
        "colab": {
          "base_uri": "https://localhost:8080/",
          "height": 0
        },
        "outputId": "60973e75-fdb0-4e69-ed43-967c67f4342f"
      },
      "execution_count": 9,
      "outputs": [
        {
          "output_type": "display_data",
          "data": {
            "text/plain": [
              "<IPython.core.display.HTML object>"
            ],
            "text/html": [
              "<style>\n",
              "        .lm-Widget > .lm-Widget.lm-Panel {\n",
              "            max-height: none !important;\n",
              "        }\n",
              "        .widget-toggle-buttons .widget-label {\n",
              "            display: none !important;\n",
              "        }\n",
              "        .file_panel {\n",
              "            display: flex;\n",
              "            flex-direction: row;\n",
              "            justify-content: space-between;\n",
              "            margin-top: 1em;\n",
              "        }\n",
              "        .ref_text {\n",
              "            border-right: 1px solid pink;\n",
              "            margin-right: 1em;\n",
              "            padding-right: 1em;\n",
              "        }\n",
              "        .inf_text {\n",
              "            margin-left: 1em;\n",
              "        }\n",
              "        .aligned_lines {\n",
              "            border-right: 2px solid pink;\n",
              "            padding-right: 1em;\n",
              "        }\n",
              "        .matched_lines {\n",
              "            margin: 0 2em;\n",
              "            max-width: none;\n",
              "            line-height: 1.5;\n",
              "        }\n",
              "        .matched_lines hr {\n",
              "            border: 0;\n",
              "            border-top: 1px dotted black;\n",
              "        }\n",
              "        .widget-html-content {\n",
              "            line-height: 1.6;\n",
              "        }\n",
              "        </style>\n"
            ]
          },
          "metadata": {}
        }
      ]
    },
    {
      "cell_type": "markdown",
      "source": [
        "## Processing functions\n",
        "\n",
        "These functions will be used to prepare the data, and then do the alignment and error calculations.\n",
        "\n"
      ],
      "metadata": {
        "id": "myXvhQba5QWz"
      }
    },
    {
      "cell_type": "markdown",
      "source": [
        "This function will group the files we are working with, so we can easily compare and make accordians. The result of this cell is a dictionary with the file names as keys, with the file paths and text content as values."
      ],
      "metadata": {
        "id": "iSsh5_pQAVQD"
      }
    },
    {
      "cell_type": "code",
      "source": [
        "def get_file_text(file_path):\n",
        "    with open(file_path, 'r') as text_file:\n",
        "        return text_file.read()\n",
        "        \n",
        "\n",
        "def build_file_groups(file_dir):\n",
        "    txt_file_list = natsorted(list(Path(f\"/content/{file_dir}/\").glob('*.txt')), key=str)\n",
        "\n",
        "    #  Make a data structure that can hold the file paths, text and results\n",
        "    file_groups = {}  \n",
        "\n",
        "    #  Make a data structure that can hold the file paths, text and results\n",
        "    file_groups = {}  \n",
        "    \n",
        "    for txt_file in txt_file_list:\n",
        "        basename = txt_file.stem[:-len(ref_suffix)]\n",
        "        group = file_groups.get(basename, {\"rating\": None})\n",
        "        if ref_suffix in txt_file.stem[-len(ref_suffix):]:\n",
        "            group[\"ref\"] = txt_file\n",
        "            group[\"ref_text\"] = get_file_text(txt_file)\n",
        "        elif inf_suffix in txt_file.stem[-len(ref_suffix):]:\n",
        "            group[\"inf\"] = txt_file\n",
        "            group[\"inf_text\"] = get_file_text(txt_file)\n",
        "\n",
        "        file_groups[basename] = group\n",
        "    return file_groups"
      ],
      "metadata": {
        "id": "pwG957xnHIhd",
        "colab": {
          "base_uri": "https://localhost:8080/",
          "height": 17
        },
        "outputId": "502882b0-0a39-426b-8ef1-41c5be6fc844"
      },
      "execution_count": 10,
      "outputs": [
        {
          "output_type": "display_data",
          "data": {
            "text/plain": [
              "<IPython.core.display.HTML object>"
            ],
            "text/html": [
              "<style>\n",
              "        .lm-Widget > .lm-Widget.lm-Panel {\n",
              "            max-height: none !important;\n",
              "        }\n",
              "        .widget-toggle-buttons .widget-label {\n",
              "            display: none !important;\n",
              "        }\n",
              "        .file_panel {\n",
              "            display: flex;\n",
              "            flex-direction: row;\n",
              "            justify-content: space-between;\n",
              "            margin-top: 1em;\n",
              "        }\n",
              "        .ref_text {\n",
              "            border-right: 1px solid pink;\n",
              "            margin-right: 1em;\n",
              "            padding-right: 1em;\n",
              "        }\n",
              "        .inf_text {\n",
              "            margin-left: 1em;\n",
              "        }\n",
              "        .aligned_lines {\n",
              "            border-right: 2px solid pink;\n",
              "            padding-right: 1em;\n",
              "        }\n",
              "        .matched_lines {\n",
              "            margin: 0 2em;\n",
              "            max-width: none;\n",
              "            line-height: 1.5;\n",
              "        }\n",
              "        .matched_lines hr {\n",
              "            border: 0;\n",
              "            border-top: 1px dotted black;\n",
              "        }\n",
              "        .widget-html-content {\n",
              "            line-height: 1.6;\n",
              "        }\n",
              "        </style>\n"
            ]
          },
          "metadata": {}
        }
      ]
    },
    {
      "cell_type": "markdown",
      "source": [
        "This code handles the formatting of text from the ref/inf files, into the `Utt` data type that TextErrors uses. Ideally this could be done by calling a function from the library, but they are not exposes for import as a Python lib. Perhaps in the future this library could be forked and the functions could be exported. \n"
      ],
      "metadata": {
        "id": "6xVuNdozATIR"
      }
    },
    {
      "cell_type": "code",
      "source": [
        "def read_file(utterance_file):\n",
        "    @dataclass\n",
        "    class Utt:\n",
        "        uid: str\n",
        "        words: list\n",
        "        times: list = None\n",
        "        durs: list = None\n",
        "        \n",
        "    utts = {}\n",
        "    # Handle empty file\n",
        "    if os.path.getsize(utterance_file) == 0:\n",
        "        utts[0] = Utt(0, \"\")\n",
        "    else: \n",
        "        with open(utterance_file) as fh:\n",
        "            for i, line in enumerate(fh):\n",
        "                words = line.split()\n",
        "                i = str(i)\n",
        "                utts[i] = Utt(i, words)\n",
        "    return utts"
      ],
      "metadata": {
        "id": "pxvO9PTMSbPS",
        "colab": {
          "base_uri": "https://localhost:8080/",
          "height": 17
        },
        "outputId": "ba04c547-eca3-4ff3-8405-3d69e00ff01b"
      },
      "execution_count": 11,
      "outputs": [
        {
          "output_type": "display_data",
          "data": {
            "text/plain": [
              "<IPython.core.display.HTML object>"
            ],
            "text/html": [
              "<style>\n",
              "        .lm-Widget > .lm-Widget.lm-Panel {\n",
              "            max-height: none !important;\n",
              "        }\n",
              "        .widget-toggle-buttons .widget-label {\n",
              "            display: none !important;\n",
              "        }\n",
              "        .file_panel {\n",
              "            display: flex;\n",
              "            flex-direction: row;\n",
              "            justify-content: space-between;\n",
              "            margin-top: 1em;\n",
              "        }\n",
              "        .ref_text {\n",
              "            border-right: 1px solid pink;\n",
              "            margin-right: 1em;\n",
              "            padding-right: 1em;\n",
              "        }\n",
              "        .inf_text {\n",
              "            margin-left: 1em;\n",
              "        }\n",
              "        .aligned_lines {\n",
              "            border-right: 2px solid pink;\n",
              "            padding-right: 1em;\n",
              "        }\n",
              "        .matched_lines {\n",
              "            margin: 0 2em;\n",
              "            max-width: none;\n",
              "            line-height: 1.5;\n",
              "        }\n",
              "        .matched_lines hr {\n",
              "            border: 0;\n",
              "            border-top: 1px dotted black;\n",
              "        }\n",
              "        .widget-html-content {\n",
              "            line-height: 1.6;\n",
              "        }\n",
              "        </style>\n"
            ]
          },
          "metadata": {}
        }
      ]
    },
    {
      "cell_type": "markdown",
      "source": [
        "This function handles clicks on the rating buttons. When a button is clicked, the rating value for the respective text group is updated, using the button label. Each time a rating is made a CSV is saved as `results.csv`. The CSV contains info about the files, the error metrics that TextErrors calculated, and the rating."
      ],
      "metadata": {
        "id": "MarirbO_1SD9"
      }
    },
    {
      "cell_type": "code",
      "source": [
        "output = widgets.Output()\n",
        "\n",
        "def show_data_frame(file_groups, longest_word_sequence_threshold):\n",
        "    with output:\n",
        "        df = pd.DataFrame.from_dict(file_groups)\n",
        "        df = df.reindex(index = [\"rating\", \"sequence_count\", \"wer\", \"cer\"])\n",
        "        df = df.transpose()\n",
        "        # Show it in the output (which will be displayed with the accordion)\n",
        "        output.clear_output()\n",
        "        df.columns = [\"rating\", f\"{longest_word_sequence_threshold} word sequences\", \"wer\", \"cer\"]\n",
        "        display(df)\n",
        "\n",
        "        # Save the data\n",
        "        df.to_csv(\"/content/results.csv\")\n",
        "\n",
        "# Ugh, having to use file_groups, longest_word_sequence_threshold from global scope \n",
        "# Can't see how to pass them into this handler :( \n",
        "@output.capture(clear_output=True)\n",
        "def on_button_clicked(b):\n",
        "    file_groups[b.owner.description][\"rating\"] = b.owner.value\n",
        "    show_data_frame(file_groups, longest_word_sequence_threshold)"
      ],
      "metadata": {
        "id": "6kaEGxN7P644",
        "colab": {
          "base_uri": "https://localhost:8080/",
          "height": 17
        },
        "outputId": "d15afbd0-a417-4b34-8d1b-281ed9a170ce"
      },
      "execution_count": 12,
      "outputs": [
        {
          "output_type": "display_data",
          "data": {
            "text/plain": [
              "<IPython.core.display.HTML object>"
            ],
            "text/html": [
              "<style>\n",
              "        .lm-Widget > .lm-Widget.lm-Panel {\n",
              "            max-height: none !important;\n",
              "        }\n",
              "        .widget-toggle-buttons .widget-label {\n",
              "            display: none !important;\n",
              "        }\n",
              "        .file_panel {\n",
              "            display: flex;\n",
              "            flex-direction: row;\n",
              "            justify-content: space-between;\n",
              "            margin-top: 1em;\n",
              "        }\n",
              "        .ref_text {\n",
              "            border-right: 1px solid pink;\n",
              "            margin-right: 1em;\n",
              "            padding-right: 1em;\n",
              "        }\n",
              "        .inf_text {\n",
              "            margin-left: 1em;\n",
              "        }\n",
              "        .aligned_lines {\n",
              "            border-right: 2px solid pink;\n",
              "            padding-right: 1em;\n",
              "        }\n",
              "        .matched_lines {\n",
              "            margin: 0 2em;\n",
              "            max-width: none;\n",
              "            line-height: 1.5;\n",
              "        }\n",
              "        .matched_lines hr {\n",
              "            border: 0;\n",
              "            border-top: 1px dotted black;\n",
              "        }\n",
              "        .widget-html-content {\n",
              "            line-height: 1.6;\n",
              "        }\n",
              "        </style>\n"
            ]
          },
          "metadata": {}
        }
      ]
    },
    {
      "cell_type": "markdown",
      "source": [
        "Longest word sequence, thanks Harry Keightley."
      ],
      "metadata": {
        "id": "s7oiTeooTsI3"
      }
    },
    {
      "cell_type": "code",
      "source": [
        "def common_words2(text: str, other_text: str, threshold: int) -> List[str]:\n",
        "    matcher = difflib.SequenceMatcher(None, text.split(\" \"), other_text.split(\" \"))\n",
        "    matches = matcher.get_matching_blocks()\n",
        "    matches = (match for match in matches if match.size >= threshold)\n",
        "\n",
        "    def match_to_text(match: Match) -> str:\n",
        "        words = text.split()\n",
        "        words = words[match.a : match.a + match.size]\n",
        "        return \" \".join(words)\n",
        "\n",
        "    matched = [match_to_text(match) for match in matches]\n",
        "    \n",
        "    return len(matched), matched\n"
      ],
      "metadata": {
        "id": "pVVxHOZtTKBv",
        "colab": {
          "base_uri": "https://localhost:8080/",
          "height": 17
        },
        "outputId": "27c7f2d5-3134-414d-e667-8741643d1966"
      },
      "execution_count": 13,
      "outputs": [
        {
          "output_type": "display_data",
          "data": {
            "text/plain": [
              "<IPython.core.display.HTML object>"
            ],
            "text/html": [
              "<style>\n",
              "        .lm-Widget > .lm-Widget.lm-Panel {\n",
              "            max-height: none !important;\n",
              "        }\n",
              "        .widget-toggle-buttons .widget-label {\n",
              "            display: none !important;\n",
              "        }\n",
              "        .file_panel {\n",
              "            display: flex;\n",
              "            flex-direction: row;\n",
              "            justify-content: space-between;\n",
              "            margin-top: 1em;\n",
              "        }\n",
              "        .ref_text {\n",
              "            border-right: 1px solid pink;\n",
              "            margin-right: 1em;\n",
              "            padding-right: 1em;\n",
              "        }\n",
              "        .inf_text {\n",
              "            margin-left: 1em;\n",
              "        }\n",
              "        .aligned_lines {\n",
              "            border-right: 2px solid pink;\n",
              "            padding-right: 1em;\n",
              "        }\n",
              "        .matched_lines {\n",
              "            margin: 0 2em;\n",
              "            max-width: none;\n",
              "            line-height: 1.5;\n",
              "        }\n",
              "        .matched_lines hr {\n",
              "            border: 0;\n",
              "            border-top: 1px dotted black;\n",
              "        }\n",
              "        .widget-html-content {\n",
              "            line-height: 1.6;\n",
              "        }\n",
              "        </style>\n"
            ]
          },
          "metadata": {}
        }
      ]
    },
    {
      "cell_type": "markdown",
      "source": [
        "Process the text lines, get alignment, error info and common word sequences."
      ],
      "metadata": {
        "id": "G6XkgHV4W7mP"
      }
    },
    {
      "cell_type": "code",
      "source": [
        "import functools\n",
        "\n",
        "def process_text(file_groups, longest_word_sequence_threshold, silent=True):\n",
        "\n",
        "    # Configuration settings for TextErrors - shouldn't need to change any of these\n",
        "    cer=True\n",
        "    num_top_errors=10\n",
        "    oov_set=[]\n",
        "    debug=True\n",
        "    use_chardiff=True\n",
        "    isctm=False\n",
        "    skip_detailed=False\n",
        "    keywords=[]\n",
        "    utt_group_map=None\n",
        "    oracle_wer=False\n",
        "    freq_sort=False\n",
        "    nocolor=False\n",
        "    insert_tok='<eps>'\n",
        "    terminal_width=120\n",
        "    group_stats=True\n",
        "\n",
        "    if silent:\n",
        "        debug = False\n",
        "\n",
        "    # Use this library to convert the ANSI codes that TextErrors outputs into HTML\n",
        "    conv = Ansi2HTMLConverter()\n",
        "\n",
        "    # Will be used to hold the accordion panels\n",
        "    accordion_children = []\n",
        "\n",
        "    # Iterate the file pairs\n",
        "    for key in file_groups:\n",
        "        \n",
        "        # Will be used to compile the coloured, aligned lines\n",
        "        ansi_list = []\n",
        "        ansi_lines = []\n",
        "\n",
        "        # Add file info for the ref and hyp files to the data structure\n",
        "        file_group = file_groups[key]\n",
        "        ref_utts = read_file(file_group[\"ref\"])\n",
        "        hyp_utts = read_file(file_group[\"inf\"])\n",
        "\n",
        "        if not silent and debug:\n",
        "            print(\"\")\n",
        "            print(file_group[\"ref_text\"])\n",
        "            print(file_group[\"inf_text\"])\n",
        "\n",
        "        # Process lines for each file pair, this does the alignment and error calc\n",
        "        multilines, error_stats = texterrors.process_lines(ref_utts, hyp_utts, debug, use_chardiff, isctm, skip_detailed, terminal_width, oracle_wer, keywords, oov_set, cer, utt_group_map, group_stats, nocolor, insert_tok)\n",
        "        \n",
        "        # Show me the errors \n",
        "        if not silent:\n",
        "            print(error_stats)\n",
        "\n",
        "        # Rebuild the error values, the lib doesn't expose them easily\n",
        "        ins_count = sum(error_stats.ins.values())\n",
        "        del_count = sum(error_stats.dels.values())\n",
        "        sub_count = sum(error_stats.subs.values())\n",
        "\n",
        "        # These don't seem to handle cer for empty files well\n",
        "        # wer_raw = (ins_count + del_count + sub_count) / float(error_stats.total_count)\n",
        "        # cer_raw = error_stats.char_error_count / float(error_stats.char_count)\n",
        "\n",
        "        jiwer_wer = jiwer.wer(file_group[\"ref_text\"], file_group[\"inf_text\"])\n",
        "        jiwer_cer = jiwer.cer(file_group[\"ref_text\"], file_group[\"inf_text\"])\n",
        "\n",
        "        wer = round(jiwer_wer*100, 2)\n",
        "        cer = round(jiwer_cer*100, 2)\n",
        "\n",
        "        # Keep the error values in the data structure\n",
        "        file_group[\"wer\"] = wer\n",
        "        file_group[\"cer\"] = cer\n",
        "\n",
        "        if not silent:\n",
        "            print(\"jiwer_wer\", jiwer_wer)\n",
        "            print(\"jiwer_cer\", jiwer_cer)\n",
        "            print(\"WER\", wer)\n",
        "            print(\"CER\", cer)\n",
        "\n",
        "        # Compile the aligned lines\n",
        "        for multiline in multilines:\n",
        "\n",
        "            for lines in multiline.iter_construct():\n",
        "                # Keep the ansi-coded data in a list so we can parse it later for working out longest common word sequence\n",
        "                ansi_list.append(lines)\n",
        "\n",
        "                # Group the ansi coded data for each file for easier display in the accordion panel\n",
        "                ansi_lines.append(\"\\n\".join(lines))\n",
        "\n",
        "        # Get the longest word sequence\n",
        "        sequence_count, sequence_matches = common_words2(file_group[\"ref_text\"], file_group[\"inf_text\"], longest_word_sequence_threshold)\n",
        "\n",
        "        # Keep the word sequence information handy\n",
        "        file_group[\"sequence_count\"] = sequence_count\n",
        "        file_group[\"sequence_matches\"] = sequence_matches\n",
        "\n",
        "        # Set up buttons to handle user quality rating\n",
        "        buttons = widgets.ToggleButtons(\n",
        "            options=rating_options,\n",
        "            description=key,\n",
        "            style={\"button_width\": \"60px\"},\n",
        "            value=file_group[\"rating\"]\n",
        "        )\n",
        "        # buttons.observe(on_button_clicked, 'value')\n",
        "        buttons.observe(on_button_clicked)\n",
        "        \n",
        "        # Use conv.convert to reformat ansi-coded data to html so we can display it in a widget\n",
        "        html_lines = conv.convert('\\n\\n'.join(ansi_lines))\n",
        "\n",
        "        ref_html_section  = f\"<div class='ref_text'>{file_group['ref_text']}</div>\"\n",
        "        inf_html_section  = f\"<div class='inf_text'>{file_group['inf_text']}</div>\"\n",
        "        aligned_html_section  = f\"<div class='aligned_lines'>{html_lines}</div>\"\n",
        "        matched_html_section  = f\"<div class='matched_lines'>{'<hr>'.join(sequence_matches)}</div>\"\n",
        "        \n",
        "        panel_accordion = widgets.Accordion(children=[\n",
        "            widgets.HBox([widgets.HTML(ref_html_section), widgets.HTML(inf_html_section)]),\n",
        "            widgets.HTML(matched_html_section), \n",
        "            widgets.HTML(aligned_html_section)], \n",
        "            selected_index=None)\n",
        "        \n",
        "        panel_accordion.set_title(0, \"Ref/inf text\")\n",
        "        panel_accordion.set_title(1, f\"Sequences longer than {longest_word_sequence_threshold} words\")\n",
        "        panel_accordion.set_title(2, \"Aligned lines\")\n",
        "\n",
        "        accordion_children.append([buttons, panel_accordion])\n",
        "    return accordion_children\n",
        "\n"
      ],
      "metadata": {
        "id": "CkcqBfEUVt4r",
        "colab": {
          "base_uri": "https://localhost:8080/",
          "height": 17
        },
        "outputId": "3793c9df-c428-4f25-8930-74effc889708"
      },
      "execution_count": 14,
      "outputs": [
        {
          "output_type": "display_data",
          "data": {
            "text/plain": [
              "<IPython.core.display.HTML object>"
            ],
            "text/html": [
              "<style>\n",
              "        .lm-Widget > .lm-Widget.lm-Panel {\n",
              "            max-height: none !important;\n",
              "        }\n",
              "        .widget-toggle-buttons .widget-label {\n",
              "            display: none !important;\n",
              "        }\n",
              "        .file_panel {\n",
              "            display: flex;\n",
              "            flex-direction: row;\n",
              "            justify-content: space-between;\n",
              "            margin-top: 1em;\n",
              "        }\n",
              "        .ref_text {\n",
              "            border-right: 1px solid pink;\n",
              "            margin-right: 1em;\n",
              "            padding-right: 1em;\n",
              "        }\n",
              "        .inf_text {\n",
              "            margin-left: 1em;\n",
              "        }\n",
              "        .aligned_lines {\n",
              "            border-right: 2px solid pink;\n",
              "            padding-right: 1em;\n",
              "        }\n",
              "        .matched_lines {\n",
              "            margin: 0 2em;\n",
              "            max-width: none;\n",
              "            line-height: 1.5;\n",
              "        }\n",
              "        .matched_lines hr {\n",
              "            border: 0;\n",
              "            border-top: 1px dotted black;\n",
              "        }\n",
              "        .widget-html-content {\n",
              "            line-height: 1.6;\n",
              "        }\n",
              "        </style>\n"
            ]
          },
          "metadata": {}
        }
      ]
    },
    {
      "cell_type": "markdown",
      "source": [
        "This compiles the accordion panels into an accordion display widget."
      ],
      "metadata": {
        "id": "dEIqcEsnqjDD"
      }
    },
    {
      "cell_type": "code",
      "source": [
        "def show_accordion(file_groups, accordion_children):\n",
        "    for i, title in enumerate(file_groups):\n",
        "        accordion = widgets.Accordion(children=[widgets.VBox(accordion_children[i])])\n",
        "        accordion.set_title(0, title)\n",
        "        display(accordion)"
      ],
      "metadata": {
        "id": "_g-C4-y2q2t3",
        "colab": {
          "base_uri": "https://localhost:8080/",
          "height": 17
        },
        "outputId": "71e3e8ec-4845-452a-e536-24ce611177a2"
      },
      "execution_count": 15,
      "outputs": [
        {
          "output_type": "display_data",
          "data": {
            "text/plain": [
              "<IPython.core.display.HTML object>"
            ],
            "text/html": [
              "<style>\n",
              "        .lm-Widget > .lm-Widget.lm-Panel {\n",
              "            max-height: none !important;\n",
              "        }\n",
              "        .widget-toggle-buttons .widget-label {\n",
              "            display: none !important;\n",
              "        }\n",
              "        .file_panel {\n",
              "            display: flex;\n",
              "            flex-direction: row;\n",
              "            justify-content: space-between;\n",
              "            margin-top: 1em;\n",
              "        }\n",
              "        .ref_text {\n",
              "            border-right: 1px solid pink;\n",
              "            margin-right: 1em;\n",
              "            padding-right: 1em;\n",
              "        }\n",
              "        .inf_text {\n",
              "            margin-left: 1em;\n",
              "        }\n",
              "        .aligned_lines {\n",
              "            border-right: 2px solid pink;\n",
              "            padding-right: 1em;\n",
              "        }\n",
              "        .matched_lines {\n",
              "            margin: 0 2em;\n",
              "            max-width: none;\n",
              "            line-height: 1.5;\n",
              "        }\n",
              "        .matched_lines hr {\n",
              "            border: 0;\n",
              "            border-top: 1px dotted black;\n",
              "        }\n",
              "        .widget-html-content {\n",
              "            line-height: 1.6;\n",
              "        }\n",
              "        </style>\n"
            ]
          },
          "metadata": {}
        }
      ]
    },
    {
      "cell_type": "markdown",
      "source": [
        "# Show me\n",
        "\n",
        "Display the interface and show the data as a dataframe. To re-run the interface with different data, download the files above, then come back to this cell and re-run it (maybe also need to run the cell after too)."
      ],
      "metadata": {
        "id": "saiLSG6QAcUN"
      }
    },
    {
      "cell_type": "code",
      "source": [
        "longest_word_sequence_threshold = 4\n",
        "\n",
        "# Rebuild the data structure based on what's currently in file_dir\n",
        "file_groups = build_file_groups(file_dir)\n",
        "\n",
        "# This does the alignment and error calculation\n",
        "accordion_children = process_text(file_groups, longest_word_sequence_threshold)\n",
        "\n",
        "# And this draws the accordion widget\n",
        "show_accordion(file_groups, accordion_children)"
      ],
      "metadata": {
        "id": "YcEXlOe9_XxJ",
        "colab": {
          "base_uri": "https://localhost:8080/",
          "height": 487,
          "referenced_widgets": [
            "c9517be09c3043cdb8aef0da73808478",
            "7a7961cd34254ffeb60c4107adf692b7",
            "602a1ae962f84c3c866935e3b98ef21f",
            "2beb761bbfcd4929806e25aa099ff9e4",
            "ce756bd2b90a40489dfb053ff10981e8",
            "ad807f9854864ef58f9c1c18e946c1ff",
            "846d9ef90fb946bea8ff8de04d7a77c7",
            "b58a28b4b4d2473c88a1dc8b8753cbf6",
            "8b76dcab222e429d8c5b8d6365ce4b27",
            "54d784b2d747482cbabdd0f8c4b2797d",
            "140ae94a85b346c8bd194eacb81c623e",
            "6c592fd8ef634dbebb9834b5409f4d4f",
            "bfd448fae30b452db9471d886fb37759",
            "7d4d62fe191a4770b6d2434cae31e6c8",
            "7c962f210703454ab80f6a06a0814010",
            "933d80bbaa3c4c32bd6fb38870555c31",
            "cf6042ce172649a4ae05135d60372457",
            "431fdcb2993d4660a518639987926f72",
            "1dfafbd1c48640b2a108ea6010fb3e26",
            "abc57a883ce948a192733543a599e6f7",
            "281505e9cee7438bb6358cebf8221e4d",
            "760e1f117e2241ff8c3c61b6dfe7fac2",
            "2920f93a86a44a22a59db09e978e5436",
            "7c42f813cd504fe789039484a2c89c8c",
            "acecd3a3a3064ba4882d4bdce0de09fd",
            "b703ff2528e647ffac394c24bfd21844",
            "33ecf4d66a9e4f6cab3f24f21fd6533a",
            "18bde2f7f2244288a739768c2942e124",
            "f3fd4bae272a42e2bfeab690499cd2fa",
            "8ed7373e639a413ca0c14ea296ca071c",
            "e8bf4663956040ff970c1805bf06b23c",
            "d5d7fa89fae442709a91d3f02d151272",
            "5ba2c320cc2c4fa788987d75dfa27425",
            "8bf1b6ff05464e288eaf6903a2765e70",
            "ba1b0d992bdd4afdb125300609df9884",
            "2e51d955d950475cbc066853650b12c0",
            "f4f58ad5c2b24f1c889d8237b2a36414",
            "13eff7a00de946d6a3318956c43b0780",
            "3be3d59d035942f3914cb29642799838",
            "1a1b53ee530f4f3d9d343e8c6f739393",
            "d8005cd6e3e74132b729c17feb21a54c",
            "85dad9b4281e4234addf1c3417c4691d",
            "e0069e62a13d4d80917ead7999be330c",
            "842899c1a8714d2eb2a835d6520524bd",
            "28a7c473adde44b0a2551020f1f6a618",
            "3a1038b821e94735a46858762b6e74b1"
          ]
        },
        "outputId": "64f6df79-a236-4634-cfc6-c55f4816358b"
      },
      "execution_count": 16,
      "outputs": [
        {
          "output_type": "display_data",
          "data": {
            "text/plain": [
              "<IPython.core.display.HTML object>"
            ],
            "text/html": [
              "<style>\n",
              "        .lm-Widget > .lm-Widget.lm-Panel {\n",
              "            max-height: none !important;\n",
              "        }\n",
              "        .widget-toggle-buttons .widget-label {\n",
              "            display: none !important;\n",
              "        }\n",
              "        .file_panel {\n",
              "            display: flex;\n",
              "            flex-direction: row;\n",
              "            justify-content: space-between;\n",
              "            margin-top: 1em;\n",
              "        }\n",
              "        .ref_text {\n",
              "            border-right: 1px solid pink;\n",
              "            margin-right: 1em;\n",
              "            padding-right: 1em;\n",
              "        }\n",
              "        .inf_text {\n",
              "            margin-left: 1em;\n",
              "        }\n",
              "        .aligned_lines {\n",
              "            border-right: 2px solid pink;\n",
              "            padding-right: 1em;\n",
              "        }\n",
              "        .matched_lines {\n",
              "            margin: 0 2em;\n",
              "            max-width: none;\n",
              "            line-height: 1.5;\n",
              "        }\n",
              "        .matched_lines hr {\n",
              "            border: 0;\n",
              "            border-top: 1px dotted black;\n",
              "        }\n",
              "        .widget-html-content {\n",
              "            line-height: 1.6;\n",
              "        }\n",
              "        </style>\n"
            ]
          },
          "metadata": {}
        },
        {
          "output_type": "display_data",
          "data": {
            "text/plain": [
              "Accordion(children=(VBox(children=(ToggleButtons(description='ZMS_EIP_010_Pronoun_cv_all', options=('Useless',…"
            ],
            "application/vnd.jupyter.widget-view+json": {
              "version_major": 2,
              "version_minor": 0,
              "model_id": "c9517be09c3043cdb8aef0da73808478"
            }
          },
          "metadata": {}
        },
        {
          "output_type": "display_data",
          "data": {
            "text/plain": [
              "Accordion(children=(VBox(children=(ToggleButtons(description='ZMS_EIP_013_Transaction_cv_all', options=('Usele…"
            ],
            "application/vnd.jupyter.widget-view+json": {
              "version_major": 2,
              "version_minor": 0,
              "model_id": "7c42f813cd504fe789039484a2c89c8c"
            }
          },
          "metadata": {}
        }
      ]
    },
    {
      "cell_type": "code",
      "source": [
        "display(output)\n",
        "output.clear_output()\n",
        "show_data_frame(file_groups, longest_word_sequence_threshold)"
      ],
      "metadata": {
        "colab": {
          "base_uri": "https://localhost:8080/",
          "height": 112,
          "referenced_widgets": [
            "ea6a4e4f3cca4082af0d185ebca4ff4c",
            "3c371b3b98bc4503a79c96d1d5af1c56"
          ]
        },
        "id": "Rwk9Ii-irSDF",
        "outputId": "101272f2-26f7-48ba-97c3-7c3394281c1f"
      },
      "execution_count": 17,
      "outputs": [
        {
          "output_type": "display_data",
          "data": {
            "text/plain": [
              "<IPython.core.display.HTML object>"
            ],
            "text/html": [
              "<style>\n",
              "        .lm-Widget > .lm-Widget.lm-Panel {\n",
              "            max-height: none !important;\n",
              "        }\n",
              "        .widget-toggle-buttons .widget-label {\n",
              "            display: none !important;\n",
              "        }\n",
              "        .file_panel {\n",
              "            display: flex;\n",
              "            flex-direction: row;\n",
              "            justify-content: space-between;\n",
              "            margin-top: 1em;\n",
              "        }\n",
              "        .ref_text {\n",
              "            border-right: 1px solid pink;\n",
              "            margin-right: 1em;\n",
              "            padding-right: 1em;\n",
              "        }\n",
              "        .inf_text {\n",
              "            margin-left: 1em;\n",
              "        }\n",
              "        .aligned_lines {\n",
              "            border-right: 2px solid pink;\n",
              "            padding-right: 1em;\n",
              "        }\n",
              "        .matched_lines {\n",
              "            margin: 0 2em;\n",
              "            max-width: none;\n",
              "            line-height: 1.5;\n",
              "        }\n",
              "        .matched_lines hr {\n",
              "            border: 0;\n",
              "            border-top: 1px dotted black;\n",
              "        }\n",
              "        .widget-html-content {\n",
              "            line-height: 1.6;\n",
              "        }\n",
              "        </style>\n"
            ]
          },
          "metadata": {}
        },
        {
          "output_type": "display_data",
          "data": {
            "text/plain": [
              "Output()"
            ],
            "application/vnd.jupyter.widget-view+json": {
              "version_major": 2,
              "version_minor": 0,
              "model_id": "ea6a4e4f3cca4082af0d185ebca4ff4c"
            }
          },
          "metadata": {}
        }
      ]
    }
  ]
}