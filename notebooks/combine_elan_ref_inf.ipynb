{
  "nbformat": 4,
  "nbformat_minor": 0,
  "metadata": {
    "colab": {
      "provenance": []
    },
    "kernelspec": {
      "name": "python3",
      "display_name": "Python 3"
    },
    "language_info": {
      "name": "python"
    }
  },
  "cells": [
    {
      "cell_type": "markdown",
      "source": [
        "# Elan ref/inf alignment\n",
        "\n",
        "This notebook will take the output of Elpis + Huggingface inference notebook, plus some ref Elan files you have, and create ref/inf text alignments. \n",
        "\n",
        "Output is plain text format, text pairs."
      ],
      "metadata": {
        "id": "hzewBSVQCxkS"
      }
    },
    {
      "cell_type": "code",
      "execution_count": 1,
      "metadata": {
        "id": "NvgUPGfSm9by"
      },
      "outputs": [],
      "source": [
        "%%capture \n",
        "!pip install pympi-ling\n",
        "!pip install gdown"
      ]
    },
    {
      "cell_type": "code",
      "source": [
        "import gdown\n",
        "import glob\n",
        "from typing import List, Dict, Tuple, Union\n",
        "from pympi.Elan import Eaf\n",
        "from pathlib import Path\n",
        "\n",
        "data_dir = Path(\"/content/eaf/\")\n",
        "output_dir = Path(\"/content/output/\")\n",
        "\n",
        "data_dir.mkdir(exist_ok=True)\n",
        "output_dir.mkdir(exist_ok=True)"
      ],
      "metadata": {
        "id": "bxUVPF7toMvM"
      },
      "execution_count": 2,
      "outputs": []
    },
    {
      "cell_type": "markdown",
      "source": [],
      "metadata": {
        "id": "CMvp4yK9zI6g"
      }
    },
    {
      "cell_type": "code",
      "source": [
        "# This is the id for the eaf_ref_inf folder\n",
        "id=\"1D3Fs_UTcxIqBVU90VI2_Egr-PBm4Wbgq\"\n",
        "\n",
        "gdown.download_folder(id=id, output=str(data_dir), quiet=False)"
      ],
      "metadata": {
        "id": "iGhbMCKInSjs"
      },
      "execution_count": null,
      "outputs": []
    },
    {
      "cell_type": "markdown",
      "source": [
        "Rename files that came from inference notebook (they have model names in them)"
      ],
      "metadata": {
        "id": "tiBXnVk57YOn"
      }
    },
    {
      "cell_type": "code",
      "source": [
        "import os\n",
        "\n",
        "# add_model_names_here\n",
        "strip_names = [\"FYTM_fb_all\", \"add-model-names-here\"]\n",
        "\n",
        "inf_eaf_files = sorted(list(Path(data_dir).glob('*_inf.eaf')))\n",
        "\n",
        "for filename in inf_eaf_files:\n",
        "    print(filename) \n",
        "    for model_name in strip_names:\n",
        "        if model_name in str(filename):\n",
        "            new_filename = str(filename).replace(f\"_{model_name}\", \"\")\n",
        "            os.rename(filename, new_filename)\n"
      ],
      "metadata": {
        "colab": {
          "base_uri": "https://localhost:8080/"
        },
        "id": "tYjSs9wI6ryo",
        "outputId": "7250a877-0ecb-48ab-ccb7-769f54c36048"
      },
      "execution_count": 4,
      "outputs": [
        {
          "output_type": "stream",
          "name": "stdout",
          "text": [
            "/content/eaf/ZMS_EIP_010_Pronoun_FYTM_fb_all_inf.eaf\n",
            "/content/eaf/ZMS_EIP_011_Millions_FYTM_fb_all_inf.eaf\n"
          ]
        }
      ]
    },
    {
      "cell_type": "code",
      "source": [
        "eaf_files = sorted(list(Path(data_dir).glob('*.eaf')))\n"
      ],
      "metadata": {
        "id": "b6EUNEam89uf"
      },
      "execution_count": 5,
      "outputs": []
    },
    {
      "cell_type": "code",
      "source": [
        "file_groups = {}  \n",
        "for eaf_file in eaf_files:\n",
        "    basename = eaf_file.stem[:-4]\n",
        "    group = file_groups.get(basename, {\"ref_ann\": None, \"inf_ann\": None})\n",
        "    if \"ref\" in eaf_file.stem:\n",
        "        group[\"ref\"] = eaf_file\n",
        "        # group[\"ref_text\"] = get_file_text(txt_file)\n",
        "    elif \"inf\" in eaf_file.stem:\n",
        "        group[\"inf\"] = eaf_file\n",
        "        # group[\"inf_text\"] = get_file_text(txt_file)\n",
        "\n",
        "    file_groups[basename] = group\n",
        "\n",
        "file_groups"
      ],
      "metadata": {
        "colab": {
          "base_uri": "https://localhost:8080/"
        },
        "id": "c1fIOxYitQfq",
        "outputId": "5accee99-deb2-4637-991e-fdf90d285e6c"
      },
      "execution_count": 6,
      "outputs": [
        {
          "output_type": "execute_result",
          "data": {
            "text/plain": [
              "{'ZMS_EIP_010_Pronoun': {'ref_ann': None,\n",
              "  'inf_ann': None,\n",
              "  'inf': PosixPath('/content/eaf/ZMS_EIP_010_Pronoun_inf.eaf'),\n",
              "  'ref': PosixPath('/content/eaf/ZMS_EIP_010_Pronoun_ref.eaf')},\n",
              " 'ZMS_EIP_011_Millions': {'ref_ann': None,\n",
              "  'inf_ann': None,\n",
              "  'inf': PosixPath('/content/eaf/ZMS_EIP_011_Millions_inf.eaf'),\n",
              "  'ref': PosixPath('/content/eaf/ZMS_EIP_011_Millions_ref.eaf')}}"
            ]
          },
          "metadata": {},
          "execution_count": 6
        }
      ]
    },
    {
      "cell_type": "code",
      "source": [
        "# Build output dirs \n",
        "for file_group in file_groups:\n",
        "    print(file_group)\n",
        "    file_group_output_dir = output_dir / file_group\n",
        "    file_group_output_dir.mkdir(exist_ok=True)\n"
      ],
      "metadata": {
        "colab": {
          "base_uri": "https://localhost:8080/"
        },
        "id": "71ZgqgSjDNcY",
        "outputId": "d15a97b5-6aba-4092-b9d0-be85f32bd3ee"
      },
      "execution_count": 7,
      "outputs": [
        {
          "output_type": "stream",
          "name": "stdout",
          "text": [
            "ZMS_EIP_010_Pronoun\n",
            "ZMS_EIP_011_Millions\n"
          ]
        }
      ]
    },
    {
      "cell_type": "code",
      "source": [
        "for file_group in file_groups:\n",
        "    print(file_group)\n",
        "\n",
        "    ref_eaf_file = file_groups[file_group][\"ref\"]\n",
        "    print(ref_eaf_file)\n"
      ],
      "metadata": {
        "colab": {
          "base_uri": "https://localhost:8080/"
        },
        "id": "azwzaua_DkFW",
        "outputId": "9ff5002e-96da-4cde-c295-854d94495ed3"
      },
      "execution_count": 8,
      "outputs": [
        {
          "output_type": "stream",
          "name": "stdout",
          "text": [
            "ZMS_EIP_010_Pronoun\n",
            "/content/eaf/ZMS_EIP_010_Pronoun_ref.eaf\n",
            "ZMS_EIP_011_Millions\n",
            "/content/eaf/ZMS_EIP_011_Millions_ref.eaf\n"
          ]
        }
      ]
    },
    {
      "cell_type": "code",
      "source": [
        "ref_tier_name = \"orthog\"\n",
        "inf_tier_name = \"default\"\n",
        "\n",
        "for file_group in file_groups:\n",
        "    print(file_group)\n",
        "\n",
        "    file_group_output_dir = output_dir / file_group\n",
        "\n",
        "    ref_eaf_file = file_groups[file_group][\"ref\"]\n",
        "    \n",
        "\n",
        "    ref_eaf = Eaf(ref_eaf_file)\n",
        "    tier_types: List[str] = list(ref_eaf.get_linguistic_type_names())\n",
        "    tier_names: List[str] = list(ref_eaf.get_tier_names())\n",
        "\n",
        "    print(\"REF\")\n",
        "\n",
        "    if ref_tier_name in tier_names: \n",
        "        # Get the ref annotations (start, end and text)\n",
        "        ref_annotations = ref_eaf.get_annotation_data_for_tier(ref_tier_name)\n",
        "        # Show me\n",
        "        for ref_start, ref_end, ref_annotation in ref_annotations:\n",
        "            print(ref_start, ref_end, ref_annotation)\n",
        "\n",
        "\n",
        "    inf_eaf_file = file_groups[file_group][\"inf\"]\n",
        "\n",
        "    inf_eaf = Eaf(inf_eaf_file)\n",
        "    tier_names: List[str] = list(inf_eaf.get_tier_names())\n",
        "\n",
        "    print(\"INF\")\n",
        "\n",
        "    if inf_tier_name in tier_names:\n",
        "        # Get the ref annotations (start, end and text)\n",
        "        inf_annotations = inf_eaf.get_annotation_data_for_tier(inf_tier_name)\n",
        "        # Show me\n",
        "        # for inf_start, inf_end, inf_annotation in inf_annotations:\n",
        "        #     print(inf_start, inf_end, inf_annotation)\n",
        "            \n",
        "\n",
        "    for i, (ref_start, ref_end, ref_annotation) in enumerate(ref_annotations):\n",
        "        joined_anns = []\n",
        "        joined_inf_annotation = []\n",
        "\n",
        "        for inf_start, inf_end, inf_annotation in inf_annotations:\n",
        "            # Lazy way of grouping the inference annotations in the ref utterance group timings\n",
        "            if inf_start >= ref_start and inf_end <= ref_end:\n",
        "                joined_inf_annotation.append(inf_annotation)\n",
        "\n",
        "        joined_anns.extend([ref_annotation, \" \".join(joined_inf_annotation)])\n",
        "        # print(joined_inf_annotation)\n",
        "\n",
        "        for j, joined_ann in enumerate(joined_anns):\n",
        "\n",
        "            text_file_path = file_group_output_dir / f\"{file_group}_{i}_{j}.txt\"\n",
        "            # print(text_file_path)\n",
        "\n",
        "            with open(text_file_path, \"w\") as text_file:\n",
        "                text_file.write(joined_anns[j])\n",
        "                # print(joined_anns[j])\n",
        "                "
      ],
      "metadata": {
        "id": "nMRpcVaLn8RJ"
      },
      "execution_count": null,
      "outputs": []
    },
    {
      "cell_type": "code",
      "source": [
        "%%capture\n",
        "!zip -r /content/output.zip /content/output"
      ],
      "metadata": {
        "id": "S3BEUjaN0SHT"
      },
      "execution_count": 10,
      "outputs": []
    },
    {
      "cell_type": "code",
      "source": [
        "from google.colab import files\n",
        "\n",
        "files.download('/content/output.zip')"
      ],
      "metadata": {
        "colab": {
          "base_uri": "https://localhost:8080/",
          "height": 17
        },
        "id": "8SwS9EPQ0ZDz",
        "outputId": "21216fe3-53a7-4656-b7f9-f449e0c85e06"
      },
      "execution_count": 11,
      "outputs": [
        {
          "output_type": "display_data",
          "data": {
            "text/plain": [
              "<IPython.core.display.Javascript object>"
            ],
            "application/javascript": [
              "\n",
              "    async function download(id, filename, size) {\n",
              "      if (!google.colab.kernel.accessAllowed) {\n",
              "        return;\n",
              "      }\n",
              "      const div = document.createElement('div');\n",
              "      const label = document.createElement('label');\n",
              "      label.textContent = `Downloading \"${filename}\": `;\n",
              "      div.appendChild(label);\n",
              "      const progress = document.createElement('progress');\n",
              "      progress.max = size;\n",
              "      div.appendChild(progress);\n",
              "      document.body.appendChild(div);\n",
              "\n",
              "      const buffers = [];\n",
              "      let downloaded = 0;\n",
              "\n",
              "      const channel = await google.colab.kernel.comms.open(id);\n",
              "      // Send a message to notify the kernel that we're ready.\n",
              "      channel.send({})\n",
              "\n",
              "      for await (const message of channel.messages) {\n",
              "        // Send a message to notify the kernel that we're ready.\n",
              "        channel.send({})\n",
              "        if (message.buffers) {\n",
              "          for (const buffer of message.buffers) {\n",
              "            buffers.push(buffer);\n",
              "            downloaded += buffer.byteLength;\n",
              "            progress.value = downloaded;\n",
              "          }\n",
              "        }\n",
              "      }\n",
              "      const blob = new Blob(buffers, {type: 'application/binary'});\n",
              "      const a = document.createElement('a');\n",
              "      a.href = window.URL.createObjectURL(blob);\n",
              "      a.download = filename;\n",
              "      div.appendChild(a);\n",
              "      a.click();\n",
              "      div.remove();\n",
              "    }\n",
              "  "
            ]
          },
          "metadata": {}
        },
        {
          "output_type": "display_data",
          "data": {
            "text/plain": [
              "<IPython.core.display.Javascript object>"
            ],
            "application/javascript": [
              "download(\"download_4e335242-4d43-4eb8-a691-fded5dcecad3\", \"output.zip\", 64480)"
            ]
          },
          "metadata": {}
        }
      ]
    },
    {
      "cell_type": "markdown",
      "source": [
        "Stick it back into Google Drive, so the qualitative review notebook can use it."
      ],
      "metadata": {
        "id": "ocrYLXY0MaHo"
      }
    },
    {
      "cell_type": "code",
      "source": [
        "from google.colab import drive\n",
        "drive.mount('/content/drive')"
      ],
      "metadata": {
        "colab": {
          "base_uri": "https://localhost:8080/"
        },
        "id": "2uXdQ1gnNstq",
        "outputId": "e93acbe1-155e-4cd8-e5ae-ad1e41bf8238"
      },
      "execution_count": 16,
      "outputs": [
        {
          "output_type": "stream",
          "name": "stdout",
          "text": [
            "Mounted at /content/drive\n"
          ]
        }
      ]
    },
    {
      "cell_type": "code",
      "source": [
        "!rm -rf /content/drive/MyDrive/Zara/eaf_ref_inf/output"
      ],
      "metadata": {
        "id": "XhHEhbU4M3o-"
      },
      "execution_count": 17,
      "outputs": []
    },
    {
      "cell_type": "code",
      "source": [
        "!cp -r /content/output /content/drive/MyDrive/Zara/eaf_ref_inf"
      ],
      "metadata": {
        "id": "KkVt72pjMpsL"
      },
      "execution_count": 18,
      "outputs": []
    }
  ]
}